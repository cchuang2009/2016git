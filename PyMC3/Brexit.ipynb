{
 "cells": [
  {
   "cell_type": "markdown",
   "metadata": {},
   "source": [
    "Brexit\n",
    "===\n",
    "How long could the data scientists predict the final of vote `correctly` before all the votes calculated? \n",
    "\n",
    "<a   href=\"http://predictablynoisy.com/could-the-brexit-have-happened-due-to-random-chance/\">Link</a>"
   ]
  },
  {
   "cell_type": "markdown",
   "metadata": {},
   "source": [
    "Prelude\n",
    "---"
   ]
  },
  {
   "cell_type": "markdown",
   "metadata": {},
   "source": [
    "\n",
    "**金庸**, 鹿鼎記\n",
    "\n",
    "```\n",
    "...\n",
    "    第三日傍晚，韋小寶在廂房與馬超興及天地會眾兄弟閑談。御前侍衛班領張康年匆匆進來，叫了聲：「韋副總管。」便不再說下去，神色甚是尷尬。韋小寶見他左臉上腫了一塊，右眼烏黑，顯是跟人打架吃了虧，心想：「御前侍衛不去打人，人家已經偷笑了，有誰這樣大膽，竟敢打了他？」他不願御前侍衛在天地會兄弟前失了面子，向馬超興道：「馬大哥請寬坐，兄弟暫且失陪。」馬超興道：「好說。韋爵爺請便。」\n",
    "    韋小寶走出廂房。張康年跟了出來，一到房外，便道：「稟告副總管：趙二哥給人家扣住了。」他說的趙二哥，便是御前侍衛的另…個領班趙齊賢。韋小寶罵道：「他媽的，誰有這般大膽，是柳州守備？還是知府衙門？犯了甚麼事？殺了人麼？」心想若不是犯了人命案子，當地官府決不敢扣押御前侍衛。\n",
    "    張康年神色忸怩，說道：「不是官府扣的，是 ... 是在賭場裏。」韋小寶哈哈大笑，說道：「他奶奶的，柳州城的賭場膽敢扣押御前侍衛，當真是天大的新聞了。你們輸了錢，是不是？」張康年點點頭，苦笑道：「我們七個兄弟去賭錢，賭的是大小。他媽的，這賭場有鬼，竟一連開了十三記大，我們七個已輸了千多兩銀子。第十四記上，趙二哥和我都說，這一次非開小不可 ... 」韋小寶搖頭道：「錯了，錯了，多半還是開大。」張康年道：「可惜我們沒請副總管帶領去賭，否則也不會上這個當，我們七人把身邊的銀子銀票都掏了出來，押了個小。唉！」韋小寶笑道：「開了出來，又是個大。」\n",
    "    張康年雙手一攤，作個無可奈何之狀，說道：「寶官要收銀子，我們就不許，說道天下賭場，那有連開十四個大之理，定是作弊。賭場主人出來打圓場，說道這次不算，不吃也不賠。趙二哥說不行，這次本來是小，寶官做了手腳，我們已輸了這麼多錢，這次明明大贏，怎能不算？」\n",
    "    韋小寶笑罵：「他媽的，你們這批家夥不要臉，明明輸了卻去撤賴，別說連開十四記大，就是連開廿四記，我也見過。」\n",
    "...    \n",
    "```"
   ]
  },
  {
   "cell_type": "markdown",
   "metadata": {},
   "source": [
    "What the differences Between Opinions\n",
    "---\n",
    "**張康年**\n",
    "$$\n",
    "  \\left(\\frac{1}{2}\\right)^{14}\\sim 6.1\\times10^{-5}\n",
    "$$\n",
    ",almost equal to $0$, i.e. it could not happen."
   ]
  },
  {
   "cell_type": "code",
   "execution_count": 37,
   "metadata": {
    "collapsed": false
   },
   "outputs": [
    {
     "data": {
      "text/plain": [
       "6.103515625e-05"
      ]
     },
     "execution_count": 37,
     "metadata": {},
     "output_type": "execute_result"
    }
   ],
   "source": [
    "0.5**(14)"
   ]
  },
  {
   "cell_type": "markdown",
   "metadata": {},
   "source": [
    "**韋小寶**\n",
    "```\n",
    "Event( prior 十三記大 ) is independent of Event( 十四記大 )\n",
    "```\n",
    "therefore\n",
    "$$\n",
    "  \\mathbf{\\text{Prob}}(\\text{十四記大})=\\frac{1}{2}\n",
    "$$ \n",
    "obviously much greater than result above!\n",
    "\n",
    "Note \n",
    "$$\n",
    "\\begin{align}\n",
    "{\\cal P}(\\text{十四記大 }|\\text{ prior 十三記大})\n",
    "      &=&\\frac{ {\\cal P}(\\text{十四記大},\\text{prior 十三記大})}{ {\\cal P}(\\text{prior 十三記大})} \\\\\n",
    " (\\color{red}{\\text{independent}})     &=& \\frac{ {\\cal P}(\\text{十四記大})\\times{\\cal P}(\\text{prior 十三記大})}{ {\\cal P}(\\text{prior 十三記大})} \\\\\n",
    "      &=&  {\\cal P}(\\text{十四記大})=\\frac{1}{2}\n",
    "\\end{align}\n",
    "$$"
   ]
  },
  {
   "cell_type": "markdown",
   "metadata": {},
   "source": [
    "Requirement\n",
    "---\n",
    "**tqdm**: Instantly make your loops show a progress meter; installed by PIP:\n",
    "```\n",
    "pip install dqtm\n",
    "```"
   ]
  },
  {
   "cell_type": "code",
   "execution_count": null,
   "metadata": {
    "collapsed": false
   },
   "outputs": [],
   "source": [
    "# confirm internet available\n",
    "!pip install dqtm"
   ]
  },
  {
   "cell_type": "markdown",
   "metadata": {},
   "source": [
    "As a scientist, watching the Brexit vote was a little bit painful. Though probably not for the reason you’re thinking. No, it wasn’t the politics that bothered me, but the method for making such an incredibly important decision. Let me explain…\n",
    "\n",
    "Scientists are a bit obsessed with the concept of error. In the context of collecting data and anaylzing it, this takes the form of our “confidence” in the results. If all the data say the same thing, then we are usually pretty confident in the overall message. If the data is more complicated than this (and it always is), then we need to define how confident we are in our conclusions.\n",
    "\n",
    "Which brings me to this gigantic nation-wide referendum vote. I couldn’t help but notice that the cutoff for winning / losing the vote was set at 50%. To me, this sounds crazy. If I simply flipped a coin at 50% and tallied the results each time, I’d get some difference between # heads and # tails that would vary around 50%. In the context of voting, it means that a yes/no split that’s really close to 50% might actually be too close to call.\n",
    "\n",
    "In science, saying that a number is different from some other number requires that the difference falls outside of a certain region of uncertainty. It’s a way of saying “yeah, I know that random fluctuations cause strange looking data sometimes, but my difference is so far from those fluctuations that I think there’s something real going on.”\n",
    "\n",
    "But this is all a little abstract, so let’s try it out on some voting data…"
   ]
  },
  {
   "cell_type": "markdown",
   "metadata": {},
   "source": [
    "Simulating a national referendum vote\n",
    "---\n",
    "For a referendum vote to go through, it seems reasonable to say “the people need to vote in numbers that are significantly different from random chance. To ask what “random chance” looks like, we can use computer simulations.\n",
    "\n",
    "We’ll take on the task of assessing what national votes might look like if they happened completely randomly. Then, we can compare the actual results to our simulation in order to decide if we’ve got a “real” result or not.\n",
    "\n"
   ]
  },
  {
   "cell_type": "code",
   "execution_count": null,
   "metadata": {
    "collapsed": true
   },
   "outputs": [],
   "source": []
  },
  {
   "cell_type": "code",
   "execution_count": 1,
   "metadata": {
    "collapsed": true
   },
   "outputs": [],
   "source": [
    "# First, import a bunch of stuff that we'll use later\n",
    "import numpy as np\n",
    "from scipy import stats\n",
    "import matplotlib.pyplot as plt\n",
    "import pandas as pd\n",
    "from tqdm import tqdm\n",
    "import seaborn as sns\n",
    "sns.set_style('white')\n",
    "%matplotlib inline"
   ]
  },
  {
   "cell_type": "code",
   "execution_count": 11,
   "metadata": {
    "collapsed": true
   },
   "outputs": [],
   "source": [
    "# Initializing the simulation\n",
    "# We'll simulate ten thousand votes.\n",
    "# On each iteration, generate random votes and calculate the results \n",
    "n_votes = 10000\n",
    "\n",
    "# This is the actual difference in percentage points that we had between the sides\n",
    "actual_diff = 51.9 - 48.1"
   ]
  },
  {
   "cell_type": "markdown",
   "metadata": {},
   "source": [
    "First, we’ll create a completely random vote. Each person randomly chooses between the two options: yes and no. Then, we compare the difference in percentage points between the two."
   ]
  },
  {
   "cell_type": "code",
   "execution_count": 12,
   "metadata": {
    "collapsed": false
   },
   "outputs": [
    {
     "name": "stderr",
     "output_type": "stream",
     "text": [
      "100%|██████████| 10000/10000 [00:02<00:00, 4799.55it/s]\n"
     ]
    }
   ],
   "source": [
    "# Create 10,000 citizens and assign each a random vote\n",
    "total_population = int(1e4)\n",
    "diff = np.zeros(n_votes)\n",
    "for ii in tqdm(range(n_votes)):\n",
    "    votes = np.random.rand(total_population)\n",
    "    yes = np.sum(votes < .5) / float(total_population)\n",
    "    no = np.sum(votes > .5) / float(total_population)\n",
    "    \n",
    "    # This is the difference in percentage points\n",
    "    diff[ii] = (yes - no) * 100"
   ]
  },
  {
   "cell_type": "markdown",
   "metadata": {},
   "source": [
    "<code style=\"background-color:lightpink;color:red;\">diff</code> is a list of numbers representing the lead that “yes” has over “no”. Remember, we’ve randomly chosen these values, so they are the results you’d get if every single person in the country voted completely randomly.\n",
    "\n",
    "How can we summarize the “limits of uncertainty” that <code style=\"background-color:lightpink;color:red;\">diff</code> defines? We can use percentiles to get an idea for the variability of this number. We’ll take the 1st and the 99th percentile of our simulated differences as a proxy for the limits of what we’d expect if there were no true opinion in the population"
   ]
  },
  {
   "cell_type": "code",
   "execution_count": 14,
   "metadata": {
    "collapsed": true
   },
   "outputs": [],
   "source": [
    "# Here we calculate 98% confidence interval on the difference\n",
    "clo, chi = np.percentile(diff, [1, 99])"
   ]
  },
  {
   "cell_type": "markdown",
   "metadata": {},
   "source": [
    "Now, we’ll make a plot with 3 things:\n",
    "\n",
    "1. The distribution of all our **simulated differences**\n",
    "2. A vertical black line for each limit of the **confidence interval**.\n",
    "3. A vertical red line representing the actual difference between ```yes/no``` that was reported\n"
   ]
  },
  {
   "cell_type": "code",
   "execution_count": 15,
   "metadata": {
    "collapsed": false
   },
   "outputs": [
    {
     "data": {
      "image/png": "[encoded data removed]",
      "text/plain": [
       "<matplotlib.figure.Figure at 0x11ac3abe0>"
      ]
     },
     "metadata": {},
     "output_type": "display_data"
    }
   ],
   "source": [
    "# Let's look at the distribution of differences when voting is *totally* random\n",
    "f, ax = plt.subplots(figsize=(10, 5))\n",
    "_ = ax.hist(diff, bins=30)\n",
    "_ = ax.axvline(actual_diff, color='r', ls='--')\n",
    "axfill = ax.fill_between([clo, chi], *ax.get_ylim(), alpha=.1, color='k')\n",
    "ax.set_title('Distribution of totally random splits', fontsize=20)\n",
    "ax.legend([ax.lines[0], axfill], ['Actual Difference', 'Confidence Interval'], fontsize=12)\n",
    "_ = plt.setp(ax, xlim=[-15, 15])"
   ]
  },
  {
   "cell_type": "markdown",
   "metadata": {},
   "source": [
    "For a vote to be “different” than 50%, it’d need to be outside our margin of error described by the grey rectangle. In this case, it seems that a totally random vote yields about 2% points of spread around 0, and that the recorded vote difference (~4%) is outside of the margin of error for 50%. So maybe we can conclude that the Brexit vote was significantly different from a random 50/50 vote.\n",
    "\n",
    "BUT – we also know that people don’t vote completely randomly. They are influenced by external factors, they talk to one another, they tend to vote similarly to those around them. This is why everybody could predict which districts would vote “yes” and which would vote “no” well before the election.\n",
    "\n",
    "So, let’s build that in to our simulation…"
   ]
  },
  {
   "cell_type": "markdown",
   "metadata": {},
   "source": [
    "Simulating a not-completely-random population\n",
    "---\n",
    "So how exactly do we simulate the fact that people don’t vote totally randomly? There are a lot of ways to do this, but I’ll take the semi-arbitrary decision to say that we could expect the same pattern of voting to occur within a district. That is – we can simulate random district votes instead of random individual votes. Moreover, we’ll then weight that district’s percentage split by an amount proportional to that district’s size. Intuitively it doesn’t seem like this should make much difference in our simulation (we’re still totally randomly choosing the yes/no split), but let’s see what happens…\n",
    "\n",
    "First, I grabbed a list of each UK voting district, along with its size…"
   ]
  },
  {
   "cell_type": "code",
   "execution_count": 9,
   "metadata": {
    "collapsed": false
   },
   "outputs": [
    {
     "data": {
      "text/plain": [
       "<matplotlib.text.Text at 0x11a95cf98>"
      ]
     },
     "execution_count": 9,
     "metadata": {},
     "output_type": "execute_result"
    },
    {
     "data": {
      "image/png": "[encoded data removed]",
      "text/plain": [
       "<matplotlib.figure.Figure at 0x11a8d8b38>"
      ]
     },
     "metadata": {},
     "output_type": "display_data"
    }
   ],
   "source": [
    "# UK Population data pulled from\n",
    "# https://en.wikipedia.org/wiki/List_of_English_districts_by_population\n",
    "populations = pd.read_csv('data/uk_population.csv', header=None)#, index_col=0)\n",
    "#Rank,  District,  Population, Type, Ceremonial_county, Historic_county, English_Region\n",
    "header = ['Rank','District', 'Population', 'Type', 'Ceremonial_County', 'Historic_County', 'English_Region']\n",
    "populations.columns = header\n",
    "\n",
    "# Convert population to numbers\n",
    "#populations['Population'] = pd.to_numeric(populations['Population'].str.replace(',', ''))\n",
    "\n",
    "# Now, turn these populations into percentages\n",
    "n_areas = populations.shape[0]\n",
    "total_population = populations['Population'].sum()\n",
    "populations['percent'] = populations['Population'].astype(float) / total_population\n",
    "plt.plot(populations['percent'])\n",
    "plt.title('Distribution of (sorted) region sizes within the UK', fontsize=15)\n",
    "plt.xlabel('District number')\n",
    "plt.ylabel('Population percentage')"
   ]
  },
  {
   "cell_type": "code",
   "execution_count": 28,
   "metadata": {
    "collapsed": false
   },
   "outputs": [
    {
     "data": {
      "text/plain": [
       "2"
      ]
     },
     "execution_count": 28,
     "metadata": {},
     "output_type": "execute_result"
    }
   ],
   "source": [
    "area_splits = np.random.rand(n_areas)\n",
    "len(np.vstack([area_splits, 1 - area_splits]))"
   ]
  },
  {
   "cell_type": "markdown",
   "metadata": {},
   "source": [
    "Now, we’ll run the simulation. On each iteration, all the districts vote totally randomly. Then, the difference between “yes” and “no” is calculated for each. Finally, these differences are combined in a weighted average, where the weights are proportional to the district sizes. This means that bigger districts have a larger influence on the outcome, mimicking the way that the UK tallies votes."
   ]
  },
  {
   "cell_type": "code",
   "execution_count": 16,
   "metadata": {
    "collapsed": false
   },
   "outputs": [
    {
     "name": "stderr",
     "output_type": "stream",
     "text": [
      "100%|██████████| 10000/10000 [00:00<00:00, 11391.74it/s]\n"
     ]
    }
   ],
   "source": [
    "diff = np.zeros(n_votes)\n",
    "for ii in tqdm(range(n_votes)):\n",
    "    # Define a random split yes vs. no for each area\n",
    "    area_splits = np.random.rand(n_areas)\n",
    "    area_splits = np.vstack([area_splits, 1 - area_splits])\n",
    "    yes, no = area_splits\n",
    "    \n",
    "    # Now, calculate the difference and average these together, weighted by the area size\n",
    "    diffs = yes - no\n",
    "    diffs = np.average(diffs, weights=populations['percent'])\n",
    "    diff[ii] = diffs * 100"
   ]
  },
  {
   "cell_type": "code",
   "execution_count": 17,
   "metadata": {
    "collapsed": true
   },
   "outputs": [],
   "source": [
    "# Here we calculate 99% confidence interval on the difference\n",
    "clo, chi = np.percentile(diff, [.5, 99.5])"
   ]
  },
  {
   "cell_type": "code",
   "execution_count": 18,
   "metadata": {
    "collapsed": false
   },
   "outputs": [
    {
     "data": {
      "image/png": "[encoded data removed]",
      "text/plain": [
       "<matplotlib.figure.Figure at 0x11ab41be0>"
      ]
     },
     "metadata": {},
     "output_type": "display_data"
    }
   ],
   "source": [
    "# Let's look at the distribution of differences\n",
    "# This time, voting is randomized for each region\n",
    "f, ax = plt.subplots(figsize=(10, 5))\n",
    "_ = ax.hist(diff, bins=30)\n",
    "_ = ax.axvline(actual_diff, color='r', ls='--')\n",
    "axfill = ax.fill_between([clo, chi], *ax.get_ylim(), alpha=.1, color='k')\n",
    "ax.set_title('Distribution of votes randomized by region', fontsize=20)\n",
    "ax.legend([ax.lines[0], axfill], ['Actual Difference', 'Confidence Interval'], fontsize=12)\n",
    "_ = plt.setp(ax, xlim=[-15, 15])"
   ]
  },
  {
   "cell_type": "markdown",
   "metadata": {},
   "source": [
    "Now we see a different sort of picture. Randomizing votes by district instead of by individual greatly increased the variability in the outcome. So much so that the “true” results from the Brexit now fall well within our confidence interval."
   ]
  },
  {
   "cell_type": "code",
   "execution_count": 2,
   "metadata": {
    "collapsed": false
   },
   "outputs": [],
   "source": [
    "import qgrid\n",
    "\n",
    "qgrid.nbinstall(overwrite=True,user=True)"
   ]
  },
  {
   "cell_type": "code",
   "execution_count": 3,
   "metadata": {
    "collapsed": true
   },
   "outputs": [],
   "source": [
    "populations = pd.read_csv('data/uk_population.csv', header=None)#, index_col=0)\n"
   ]
  },
  {
   "cell_type": "code",
   "execution_count": 4,
   "metadata": {
    "collapsed": false
   },
   "outputs": [
    {
     "data": {
      "application/vnd.jupyter.widget": "586cb456a690458aa281d0ae6878eccb"
     },
     "metadata": {},
     "output_type": "display_data"
    }
   ],
   "source": [
    "qgrid.show_grid(populations)"
   ]
  },
  {
   "cell_type": "markdown",
   "metadata": {},
   "source": [
    "Note: Data Manipulation\n",
    "---\n",
    "To make data suit our neeed, it is always a big problem. \n",
    "\n",
    "Here, the data of UK population got from wiki page and from several tables. Put the data together on file, created in sub-folder, ```data```, by copy and paste; note that the population sizes had to be converted to formal format:\n",
    "\n",
    "```\n",
    "  1,234,567  -> 1234567\n",
    "```  \n",
    ", for instance, which could be done by \n",
    "<code style=\"color:red\">\n",
    "  pd.to_numeric(populations['Population'].str.replace(',', ''))\n",
    "</code>"
   ]
  },
  {
   "cell_type": "code",
   "execution_count": null,
   "metadata": {
    "collapsed": true
   },
   "outputs": [],
   "source": []
  },
  {
   "cell_type": "markdown",
   "metadata": {},
   "source": [
    "Concluding thoughts?\n",
    "---\n",
    "So what can we conclude from something like this? The point of this article isn’t to say that this particular simulation proves anything about the Brexit vote, but it does bring up an important point: \n",
    "\n",
    "```\n",
    "we need to account for randomness whenever we aggregate data that we’ve collected.\n",
    "```\n",
    "\n",
    "When deciding whether to make a gigantic decision that will affect millions of people, we should be reasonably certain that the people’s opinion is clear. Choosing a 50/50 split as a cutoff means that we could potentially make such a decision because of random chance. Doesn’t sound like a great way to conduct national policy to me.\n",
    "\n",
    "What could we do instead? There’s the hard part. But the short answer is that we could include some idea of random variability in our voting rules. For example, we could require that this kind of “should we deviate from the norm” decision exceeds the results expected from a totally random vote. Settling on this uncertainty limit is not a simple task, but then again I wouldn’t want to bet 2 trillion dollars worth of global economy on a coin flip.\n",
    "\n"
   ]
  },
  {
   "cell_type": "markdown",
   "metadata": {},
   "source": [
    "Extra: Adding a short term swing\n",
    "---\n",
    "As I mentioned above, deciding how to simulate the votes involves making assumptions about how things will go. I tried to keep the simulation as simple as possible in order to make a point, but you could include extra components as well.\n",
    "\n",
    "For example, what if we chose a random subset of districts in the UK and swung their vote several percentage points in one random direction? This might happen if an eye-catching event caused sentiment to momentarily swing in one direction or another. In the long run each district’s sentiment would probably ease back into it’s “natural” split, but since votes happen on one day, these short-term factors can play an important role.\n",
    "\n",
    "We can build this into our simulation…\n",
    "\n"
   ]
  },
  {
   "cell_type": "code",
   "execution_count": 19,
   "metadata": {
    "collapsed": true
   },
   "outputs": [],
   "source": [
    "# Here we define a percentage of districts that undergo a sudden swing in voter opinion\n",
    "perc_swing_amt = .1\n",
    "perc_swing_districts = .2\n",
    "n_perc_swing_districts = int(n_areas * perc_swing_districts)"
   ]
  },
  {
   "cell_type": "code",
   "execution_count": 29,
   "metadata": {
    "collapsed": false
   },
   "outputs": [
    {
     "data": {
      "text/plain": [
       "65"
      ]
     },
     "execution_count": 29,
     "metadata": {},
     "output_type": "execute_result"
    }
   ],
   "source": [
    "n_perc_swing_districts"
   ]
  },
  {
   "cell_type": "code",
   "execution_count": 20,
   "metadata": {
    "collapsed": false
   },
   "outputs": [
    {
     "name": "stderr",
     "output_type": "stream",
     "text": [
      "100%|██████████| 10000/10000 [00:02<00:00, 4263.06it/s]\n"
     ]
    }
   ],
   "source": [
    "# Now, re-run the simulation including the random swing.\n",
    "diff = np.zeros(n_votes)\n",
    "for ii in tqdm(range(n_votes)):\n",
    "    # Define a random split yes vs. no for each area\n",
    "    area_splits = np.random.rand(n_areas)\n",
    "    \n",
    "    # Define a random swing across a subset of random districts\n",
    "    swing = perc_swing_amt * np.random.choice([-1, 1])\n",
    "    ixs_swing = np.random.choice(range(n_areas), n_perc_swing_districts, replace=False)\n",
    "    area_splits[ixs_swing] = np.clip(swing + area_splits[ixs_swing], 0, 100)\n",
    "    \n",
    "    # Now calculate the opposing side amount and average\n",
    "    area_splits = np.vstack([area_splits, 1 - area_splits])\n",
    "    yes, no = area_splits\n",
    "    \n",
    "    # Now, calculate the difference and average these together, weighted by the area size\n",
    "    diffs = yes - no\n",
    "    diffs = np.average(diffs, weights=populations['percent'])\n",
    "    diff[ii] = diffs * 100"
   ]
  },
  {
   "cell_type": "code",
   "execution_count": 21,
   "metadata": {
    "collapsed": true
   },
   "outputs": [],
   "source": [
    "# Here we calculate 99% confidence interval on the difference\n",
    "clo, chi = np.percentile(diff, [.5, 99.5])"
   ]
  },
  {
   "cell_type": "code",
   "execution_count": 22,
   "metadata": {
    "collapsed": false
   },
   "outputs": [
    {
     "data": {
      "image/png": "[encoded data removed]",
      "text/plain": [
       "<matplotlib.figure.Figure at 0x11a574208>"
      ]
     },
     "metadata": {},
     "output_type": "display_data"
    }
   ],
   "source": [
    "# Let's look at the distribution of differences\n",
    "f, ax = plt.subplots(figsize=(10, 5))\n",
    "_ = ax.hist(diff, bins=30)\n",
    "_ = ax.axvline(actual_diff, color='r', ls='--')\n",
    "axfill = ax.fill_between([clo, chi], *ax.get_ylim(), alpha=.1, color='k')\n",
    "ax.set_title('Distribution of votes randomized by region', fontsize=20)\n",
    "ax.legend([ax.lines[0], axfill], ['Actual Difference', 'Confidence Interval'], fontsize=12)\n",
    "_ = plt.setp(ax, xlim=[-15, 15])"
   ]
  },
  {
   "cell_type": "markdown",
   "metadata": {},
   "source": [
    "Uncertainty increases variation\n",
    "---\n",
    "It looks like now our confidence intervals are even wider than before. This is becase basically any change to our voting system that deviates away from a completely random 50/50 split will increase the variability in the outcome.\n",
    "\n"
   ]
  },
  {
   "cell_type": "code",
   "execution_count": null,
   "metadata": {
    "collapsed": true
   },
   "outputs": [],
   "source": []
  },
  {
   "cell_type": "code",
   "execution_count": null,
   "metadata": {
    "collapsed": true
   },
   "outputs": [],
   "source": []
  }
 ],
 "metadata": {
  "kernelspec": {
   "display_name": "Python 3",
   "language": "python",
   "name": "python3"
  },
  "language_info": {
   "codemirror_mode": {
    "name": "ipython",
    "version": 3
   },
   "file_extension": ".py",
   "mimetype": "text/x-python",
   "name": "python",
   "nbconvert_exporter": "python",
   "pygments_lexer": "ipython3",
   "version": "3.5.1"
  }
 },
 "nbformat": 4,
 "nbformat_minor": 1
}
