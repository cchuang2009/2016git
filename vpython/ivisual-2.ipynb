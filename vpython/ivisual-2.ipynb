{
 "cells": [
  {
   "cell_type": "code",
   "execution_count": null,
   "metadata": {
    "collapsed": false
   },
   "outputs": [],
   "source": [
    "#from pylab import *\n",
    "from vpython import *\n",
    "from numpy import pi,sin,cos\n",
    "\n",
    "from ipywidgets import interact, interactive, fixed\n",
    "import ipywidgets as widgets\n",
    "\n",
    "#from IPython.display import clear_output, display, HTML, display_html, Javascript\n",
    "#from __future__ import division"
   ]
  },
  {
   "cell_type": "code",
   "execution_count": null,
   "metadata": {
    "collapsed": false
   },
   "outputs": [],
   "source": [
    "#from __future__ import division, print_function\n",
    "#from IPython.core import page\n",
    "#page.page = print"
   ]
  },
  {
   "cell_type": "markdown",
   "metadata": {
    "slideshow": {
     "slide_type": "slide"
    }
   },
   "source": [
    "# Inverted Pendulum\n",
    "\n",
    "An inverted pendulum is a pendulum which has its center of mass above its pivot point as follows:\n",
    "<div align=\"center\">\n",
    "<img src=\"data/img/InvertedPendulum.png\"></p>\n",
    "</div>    \n",
    "<p>"
   ]
  },
  {
   "cell_type": "markdown",
   "metadata": {
    "slideshow": {
     "slide_type": "subslide"
    }
   },
   "source": [
    "## Pendulum with oscillatory base\n",
    "Do you even see the show about how to keep the disk not falling down from top of a banboo rode? <p>\n",
    "<div align=\"center\">\n",
    "<img src=\"data/img/InvertPendulum2.png\"></p>\n",
    "</div>\n",
    "<p>\n",
    "The equation of motion for a pendulum connected to a massless, oscillating base is derived the same way as with the pendulum on the cart. The position of the point mass is now given by:\n",
    "$$\n",
    "    \\left( -\\ell \\sin \\theta , y + \\ell \\cos \\theta \\right)\n",
    "$$\n",
    "and the velocity is found by taking the first derivative of the position:\n",
    "$$\n",
    "    v^2=\\dot y^2-2 \\ell \\dot y \\dot \\theta \\sin \\theta + \\ell^2\\dot \\theta ^2.\n",
    "$$\n",
    "\n",
    "The Lagrangian for this system can be written as:\n",
    "\\begin{eqnarray}\n",
    "    L &=& \\text{Kinetic Energy}-\\text{Potential Energy} \\\\\n",
    "      &=&\\frac{1 }{2} m \\left ( \\dot y^2-2 \\ell \\dot y \\dot \\theta \\sin \\theta + \\ell^2\\dot \\theta ^2 \\right) - m g \\left( y + \\ell \\cos \\theta \\right ) \n",
    "\\end{eqnarray}\n",
    "and the equation of motion follows from:\n",
    "$$\n",
    "    {\\mathrm{d} \\over \\mathrm{d}t}{\\partial{L}\\over \\partial{\\dot \\theta}} - {\\partial{L}\\over \\partial \\theta} = 0 \n",
    "$$\n",
    "resulting in:\n",
    "$$\n",
    "    \\ell \\ddot \\theta - \\ddot y \\sin \\theta = g \\sin \\theta. \n",
    "$$\n",
    "\n",
    "If $y$ represents a simple harmonic motion, $y = A \\sin \\omega t$, the following differential equation is:\n",
    "$$\n",
    "    \\ddot \\theta - {g \\over \\ell} \\sin \\theta = -{A \\over \\ell} \\omega^2 \\sin \\omega t \\sin \\theta. \n",
    "$$    "
   ]
  },
  {
   "cell_type": "code",
   "execution_count": 1,
   "metadata": {
    "collapsed": false
   },
   "outputs": [
    {
     "data": {
      "application/javascript": [
       "require.undef(\"nbextensions/jquery-ui.custom.min\");"
      ],
      "text/plain": [
       "<IPython.core.display.Javascript object>"
      ]
     },
     "metadata": {},
     "output_type": "display_data"
    },
    {
     "data": {
      "application/javascript": [
       "require.undef(\"nbextensions/glow.2.1.min\");"
      ],
      "text/plain": [
       "<IPython.core.display.Javascript object>"
      ]
     },
     "metadata": {},
     "output_type": "display_data"
    },
    {
     "data": {
      "application/javascript": [
       "require.undef(\"nbextensions/glowcomm\");"
      ],
      "text/plain": [
       "<IPython.core.display.Javascript object>"
      ]
     },
     "metadata": {},
     "output_type": "display_data"
    },
    {
     "data": {
      "application/javascript": [
       "require.undef(\"nbextensions/pako.min\");"
      ],
      "text/plain": [
       "<IPython.core.display.Javascript object>"
      ]
     },
     "metadata": {},
     "output_type": "display_data"
    },
    {
     "data": {
      "application/javascript": [
       "require.undef(\"nbextensions/pako_deflate.min\");"
      ],
      "text/plain": [
       "<IPython.core.display.Javascript object>"
      ]
     },
     "metadata": {},
     "output_type": "display_data"
    },
    {
     "data": {
      "application/javascript": [
       "require.undef(\"nbextensions/pako_inflate.min\");"
      ],
      "text/plain": [
       "<IPython.core.display.Javascript object>"
      ]
     },
     "metadata": {},
     "output_type": "display_data"
    },
    {
     "data": {
      "application/javascript": [
       "require([\"nbextensions/glowcomm\"], function(){console.log(\"glowcomm loaded\");})"
      ],
      "text/plain": [
       "<IPython.core.display.Javascript object>"
      ]
     },
     "metadata": {},
     "output_type": "display_data"
    },
    {
     "data": {
      "text/html": [
       "<div id=\"glowscript\" class=\"glowscript\"></div>"
      ],
      "text/plain": [
       "<IPython.core.display.HTML object>"
      ]
     },
     "metadata": {},
     "output_type": "display_data"
    },
    {
     "data": {
      "application/javascript": [
       "window.__context = { glowscript_container: $(\"#glowscript\").removeAttr(\"id\")}"
      ],
      "text/plain": [
       "<IPython.core.display.Javascript object>"
      ]
     },
     "metadata": {},
     "output_type": "display_data"
    }
   ],
   "source": [
    "from vpython import *\n",
    "from numpy import pi,sin,cos"
   ]
  },
  {
   "cell_type": "code",
   "execution_count": 2,
   "metadata": {
    "collapsed": true
   },
   "outputs": [],
   "source": [
    "scene.autoscale = 0     # disable function of auto-zooming\n",
    "scene.title = 'Inverted pendulum'\n",
    "#scene.range = vec(2.05,2.05,2.05)\n",
    "scene.background=color.white"
   ]
  },
  {
   "cell_type": "code",
   "execution_count": 3,
   "metadata": {
    "collapsed": true
   },
   "outputs": [],
   "source": [
    "def display_instructions():\n",
    "    s = \"In VPython programs:\\n\\n\"\n",
    "    s += \" Rotate the camera by dragging with the right mouse button,\\n \"\n",
    "    s += \" or hold down the Ctrl key and drag.\\n\\n\"\n",
    "    s += \" To zoom, drag with the left+right mouse buttons,\\n\"\n",
    "    s += \" or hold down the Alt/Option key and drag,\\n  or use the mouse wheel.\\n\"\n",
    "    s += \"\\nTouch screen= pinch/extend to zoom, swipe or two-finger rotate.\"\n",
    "    scene.caption = s"
   ]
  },
  {
   "cell_type": "code",
   "execution_count": null,
   "metadata": {
    "collapsed": false,
    "slideshow": {
     "slide_type": "subslide"
    }
   },
   "outputs": [],
   "source": [
    "# Display text below the 3D graphics:\n",
    "display_instructions()\n",
    "\n",
    "theta = 0.1*pi           # angle of 1st pendulum to vertical (initial value)\n",
    "\n",
    "theta_dot = 0.0\t# rate of change of theta1 - initial value\n",
    "\n",
    "g = 9.8\t# acceleration of gravity\n",
    "l = 1.0\t# pendulum arm length \n",
    "m = 0.3\t# mass of pendulum ball\n",
    "omega=80.\n",
    "A=0.1\n",
    "\n",
    "time = 0.0       # initial value of time\n",
    "dt = 0.001      # time step\n",
    "\n",
    "# Create balls\n",
    "pivot = vector(-l*sin(theta),A*sin(omega*time)+l*cos(theta),0)\n",
    "ball = sphere(color=color.blue, pos=pivot, radius=0.08, make_trail=True, interval=10, retain=50)\n",
    "\n",
    "arm = cylinder(pos=vec(0,0,0), axis=pivot, radius=.03, color=color.cyan)\n",
    "\n",
    "nub = sphere(pos=vec(0,0,0), radius=0.1, color=color.white)      # little white nub\n",
    "\n",
    "wall1=mybox = box(pos = vec(-0.1,0,0), axis = vec(-0.,0.3,0.), length = 0.3, \\\n",
    "                  height =0.1, width=0.1,color = color.green, opacity =0.3) \n",
    "wall2=mybox = box(pos = vec(0.1,0,0), axis = vec(-0.,0.3,0.), length = 0.3, \\\n",
    "                  height=0.1, width=0.1,color = color.green, opacity = 0.3) \n",
    "\n",
    "\n",
    "while (True):\n",
    "    rate(1/dt);\n",
    "    yp = A*sin(omega*time);\n",
    "    \n",
    "    theta_dot_dot = g*sin(theta)/l-A*omega*omega*sin(omega*time)*sin(theta)/l;\n",
    "    theta_dot = theta_dot + theta_dot_dot*dt\n",
    "    theta = theta + theta_dot*dt\n",
    "\n",
    "    ball.pos = vec(-l*sin(theta), yp+l*cos(theta), 0)\n",
    "    arm.pos = vec(0,yp,0)\n",
    "    nub.pos = vec(nub.pos.x,yp,0)\n",
    "    \n",
    "    arm.axis = vec(ball.pos.x, ball.pos.y-yp, 0)\n",
    "    time += dt"
   ]
  },
  {
   "cell_type": "code",
   "execution_count": null,
   "metadata": {
    "collapsed": false
   },
   "outputs": [],
   "source": [
    "scene.autoscale = 0\n",
    "scene.title = 'Inverted pendulum'\n",
    "#scene.range = (2.05,2.05,2.05)\n",
    "scene.background=color.white"
   ]
  },
  {
   "cell_type": "code",
   "execution_count": 2,
   "metadata": {
    "collapsed": false
   },
   "outputs": [],
   "source": [
    "#omega=80.\n",
    "def anim(b):\n",
    "    theta = 0.1*pi           # angle of 1st pendulum to vertical (initial value)\n",
    "\n",
    "    theta_dot = 0.0\t# rate of change of theta1 - initial value\n",
    "\n",
    "    g = 9.8\t# acceleration of gravity\n",
    "    l = 1.0\t# pendulum arm length \n",
    "    m = 0.3\t# mass of pendulum ball\n",
    "    A=0.1\n",
    "\n",
    "    time = 0.0       # initial value of time\n",
    "    dt = 0.0001      # time step\n",
    "\n",
    "    pivot=vector(-l*sin(theta),A*sin(omega*time)+l*cos(theta),0)\n",
    "    ball = sphere(color=color.blue, pos=pivot, radius=0.08, make_trail=True, interval=10, retain=50)\n",
    "\n",
    "    arm = cylinder(pos=vec(0,0,0), axis=pivot, radius=.03, color=color.cyan)\n",
    "\n",
    "    nub = sphere(pos=vec(0,0,0), radius=0.1, color=color.white)      # little white nub\n",
    "\n",
    "    wall1=mybox = box(pos=vec(-0.1,0,0), axis=vec(-0.,0.3,0.), length=0.3, height=0.1, width=0.1,color=color.green,opacity=0.3) \n",
    "    wall2=mybox = box(pos=vec(0.1,0,0), axis=vec(-0.,0.3,0.), length=0.3, height=0.1, width=0.1,color=color.green,opacity=0.3) \n",
    "\n",
    "\n",
    "    while (True):\n",
    "       rate(1/dt);\n",
    "       yp=A*sin(omega*time);\n",
    "    \n",
    "       theta_dot_dot=g*sin(theta)/l-A*omega*omega*sin(omega*time)*sin(theta)/l;\n",
    "       theta_dot = theta_dot + theta_dot_dot*dt\n",
    "       theta = theta + theta_dot*dt\n",
    "\n",
    "       ball.pos = vec(-l*sin(theta),yp+l*cos(theta),0)\n",
    "       arm.pos=vec(0,yp,0)\n",
    "       nub.pos=vec(nub.pos.x,yp,0)\n",
    "    \n",
    "       arm.axis = vec(ball.pos.x, ball.pos.y-yp, 0)\n",
    "       time += dt"
   ]
  },
  {
   "cell_type": "code",
   "execution_count": 3,
   "metadata": {
    "collapsed": true
   },
   "outputs": [],
   "source": [
    "from ipywidgets import interact, interactive\n",
    "from ipywidgets import widgets"
   ]
  },
  {
   "cell_type": "code",
   "execution_count": 7,
   "metadata": {
    "collapsed": false
   },
   "outputs": [
    {
     "data": {
      "application/vnd.jupyter.widget": "62a5a14845254206ae960293bbba09d4"
     },
     "metadata": {},
     "output_type": "display_data"
    },
    {
     "data": {
      "application/vnd.jupyter.widget": "cf90a476d1a94b32aa26e9f5a22b02cf"
     },
     "metadata": {},
     "output_type": "display_data"
    },
    {
     "name": "stderr",
     "output_type": "stream",
     "text": [
      "/Users/cch/anaconda/lib/python3.5/site-packages/ipykernel/__main__.py:11: DeprecationWarning: on_trait_change is deprecated: use observe instead\n"
     ]
    }
   ],
   "source": [
    "omega=80\n",
    "omega_range = widgets.FloatSlider(min=1.,max=100.,step=1,value=omega,description=\"Freq $\\omega$\")\n",
    "button = widgets.Button(description=\"Start\")\n",
    "display(omega_range, button, scene)   \n",
    "button.on_click(anim)\n",
    "\n",
    "def on_value_change(name, value):\n",
    "    global omega\n",
    "    omega = value\n",
    "\n",
    "omega_range.on_trait_change(on_value_change, 'value')   "
   ]
  },
  {
   "cell_type": "markdown",
   "metadata": {
    "slideshow": {
     "slide_type": "subslide"
    }
   },
   "source": [
    "<div align=\"center\">\n",
    "<video id=\"movie\" preload controls loop>\n",
    "  <source src=\"data/movies/slow.webm\" type=\"video/webm\" />\n",
    "</video>\n",
    "<video id=\"movie\" preload controls loop>\n",
    "  <source src=\"data/movies/fast.webm\" type=\"video/webm\" />\n",
    "</video>\n",
    "</div>"
   ]
  },
  {
   "cell_type": "markdown",
   "metadata": {
    "slideshow": {
     "slide_type": "slide"
    }
   },
   "source": [
    "#Myth of Indian Rope Trick\n",
    "Sometimes described as \"<font color=\"red\">the world’s greatest illusion</font>\", the Indian rope trick,\n",
    "<p>\n",
    "<div align=\"center\">\n",
    "<img src=\"data/img/IndianTrick.png\"><img src=\"data/img/rope.png\"></p>\n",
    "</div>\n",
    "<p>\n",
    "was once studied by \n",
    "\n",
    "**D. J. Acheson & T. Mullin, Nature, Upside-down pendulums p. 215-216, Nov. 1993**.  \n",
    "\n",
    "The theory of popular rope trick is explained by the dynamics system  of a sequence of connected inverted pendulums if the frequencies of one and last rods is very fast! "
   ]
  },
  {
   "cell_type": "code",
   "execution_count": null,
   "metadata": {
    "collapsed": false
   },
   "outputs": [],
   "source": [
    "%%bash\n",
    "\n",
    "ipython nbconvert ivisual-2.ipynb"
   ]
  },
  {
   "cell_type": "code",
   "execution_count": null,
   "metadata": {
    "collapsed": false
   },
   "outputs": [],
   "source": []
  }
 ],
 "metadata": {
  "kernelspec": {
   "display_name": "Python 3",
   "language": "python",
   "name": "python3"
  },
  "language_info": {
   "codemirror_mode": {
    "name": "ipython",
    "version": 3
   },
   "file_extension": ".py",
   "mimetype": "text/x-python",
   "name": "python",
   "nbconvert_exporter": "python",
   "pygments_lexer": "ipython3",
   "version": "3.5.1"
  },
  "widgets": {
   "state": {},
   "version": "2.0.0-dev"
  }
 },
 "nbformat": 4,
 "nbformat_minor": 1
}
