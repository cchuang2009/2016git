{
 "cells": [
  {
   "cell_type": "markdown",
   "metadata": {},
   "source": [
    "#                 Era of Big Data"
   ]
  },
  {
   "cell_type": "markdown",
   "metadata": {},
   "source": [
    "Like water, Data seems quiet but wild actually!\n",
    "---"
   ]
  },
  {
   "cell_type": "code",
   "execution_count": 1,
   "metadata": {
    "collapsed": false
   },
   "outputs": [
    {
     "data": {
      "text/html": [
       "\n",
       " <style type=\"text/css\">\n",
       "  @-webkit-keyframes spinner {\n",
       "      from { -webkit-transform: rotateY(0deg); }\n",
       "      to   { -webkit-transform: rotateY(-360deg); }\n",
       "  }\n",
       "  @keyframes spinner {\n",
       "      from {\n",
       "            -moz-transform: rotateY(0deg);\n",
       "            -ms-transform: rotateY(0deg);\n",
       "            transform: rotateY(0deg);\n",
       "     }\n",
       "     to {\n",
       "         -moz-transform: rotateY(-360deg);\n",
       "         -ms-transform: rotateY(-360deg);\n",
       "         transform: rotateY(-360deg);\n",
       "     }\n",
       "  }\n",
       "  .stage{\n",
       "       margin:1em auto;\n",
       "      -webkit-perspective:1200px;\n",
       "      -moz-perspective:1200px;\n",
       "      -ms-perspective:1200px;perspective:1200px\n",
       "  }\n",
       "  .spinner{\n",
       "      -webkit-animation-name:spinner;\n",
       "      -webkit-animation-timing-function:linear;\n",
       "      -webkit-animation-iteration-count:infinite;\n",
       "      -webkit-animation-duration:6s;\n",
       "      -webkit-transform-style:preserve-3d;\n",
       "      animation-name:spinner;\n",
       "      animation-timing-function:linear;\n",
       "      animation-iteration-count:infinite;\n",
       "      animation-duration:6s;\n",
       "      transform-style:preserve-3d\n",
       "  }\n",
       "  .spinner:hover{\n",
       "     -webkit-animation-play-state:paused;\n",
       "     animation-play-state:paused\n",
       "  }.spinner img,.spinner5 img{\n",
       "     position:absolute;\n",
       "     border:1px solid #ccc;\n",
       "     background:rgba(255,255,255,.8);\n",
       "     box-shadow:inset 0 0 20px rgba(0,0,0,.2)\n",
       "  }\n",
       "  </style>\n",
       "  <style type=\"text/css\">\n",
       "    @-webkit-keyframes spinner5 {\n",
       "       from,15% { -webkit-transform: rotateY(0);       }\n",
       "       20%,35%  { -webkit-transform: rotateY(-72deg);  }\n",
       "       40%,55%  { -webkit-transform: rotateY(-144deg); }\n",
       "       60%,75%  { -webkit-transform: rotateY(-216deg); }\n",
       "       80%,95%  { -webkit-transform: rotateY(-288deg); }\n",
       "       to       { -webkit-transform: rotateY(-360deg); }\n",
       "    }\n",
       "    @keyframes spinner5 {\n",
       "       from,15% {\n",
       "          -moz-transform: rotateY(0);\n",
       "          -ms-transform: rotateY(0);\n",
       "          transform: rotateY(0);\n",
       "       }\n",
       "       20%,35%  {\n",
       "         -moz-transform: rotateY(-72deg);\n",
       "         -ms-transform: rotateY(-72deg);\n",
       "         transform: rotateY(-72deg);\n",
       "       }\n",
       "       40%,55%  {\n",
       "         -moz-transform: rotateY(-144deg);\n",
       "         -ms-transform: rotateY(-144deg);\n",
       "         transform: rotateY(-144deg);\n",
       "       }\n",
       "       60%,75%  {\n",
       "          -moz-transform: rotateY(-216deg);\n",
       "          -ms-transform: rotateY(-216deg);\n",
       "          transform: rotateY(-216deg);\n",
       "       }\n",
       "       80%,95%  {\n",
       "          -moz-transform: rotateY(-288deg);\n",
       "          -ms-transform: rotateY(-288deg);\n",
       "          transform: rotateY(-288deg);\n",
       "       }\n",
       "       to {\n",
       "         -moz-transform: rotateY(-360deg);\n",
       "         -ms-transform: rotateY(-360deg);\n",
       "          transform: rotateY(-360deg);\n",
       "       }\n",
       "   }\n",
       "   .spinner5{\n",
       "       -webkit-animation-name:spinner5;\n",
       "       -webkit-animation-timing-function:ease-out;\n",
       "       -webkit-animation-iteration-count:infinite;\n",
       "       -webkit-animation-duration:20s;\n",
       "       animation-name:spinner5;\n",
       "       animation-timing-function:ease-out;\n",
       "       animation-iteration-count:infinite;\n",
       "       animation-duration:20s;\n",
       "       -webkit-transform-style:preserve-3d;\n",
       "       -moz-transform-style:preserve-3d;\n",
       "       -ms-transform-style:preserve-3d;\n",
       "       transform-style:preserve-3d}\n",
       "  </style>\n"
      ],
      "text/plain": [
       "<IPython.core.display.HTML object>"
      ]
     },
     "execution_count": 1,
     "metadata": {},
     "output_type": "execute_result"
    }
   ],
   "source": [
    "#from IPython.display import HTML\n",
    "#def css_styling():\n",
    "#    styles = open(\"styles/custom.css\", \"r\").read()\n",
    "#    return HTML(styles)\n",
    "#css_styling()"
   ]
  },
  {
   "cell_type": "markdown",
   "metadata": {
    "collapsed": true
   },
   "source": [
    "<div class=\"stage\" style=\"width: 240px; height: 160px;\">\n",
    "<div class=\"spinner\">\n",
    "<img style=\"-webkit-transform: rotateY(0deg) translateZ(165px); -moz-transform: rotateY(0deg) translateZ(165px); -ms-transform: rotateY(0deg) translateZ(165px); padding: 0px 20px;\" src=\"imgs/OnePiece.png\" alt=\"\" height=\"200px\" width=\"200px\">\n",
    "<img style=\"-webkit-transform: rotateY(72deg) translateZ(165px); -moz-transform: rotateY(72deg) translateZ(165px); -ms-transform: rotateY(72deg) translateZ(165px); padding: 0px 13.5px;\" src=\"imgs/Yahoo_1.png\" alt=\"\" height=\"200px\" width=\"200px\">\n",
    "<img style=\"-webkit-transform: rotateY(144deg) translateZ(165px); -moz-transform: rotateY(144deg) translateZ(165px); -ms-transform: rotateY(144deg) translateZ(165px); padding: 0px 0px;\" src=\"imgs/google.jpg\" alt=\"\" height=\"200px\" width=\"200px\">\n",
    "<img style=\"-webkit-transform: rotateY(216deg) translateZ(165px); -moz-transform: rotateY(216deg) translateZ(165px); -ms-transform: rotateY(216deg) translateZ(165px); padding: 0px 13.5px;\" src=\"imgs/apple_logo.png\" alt=\"\" height=\"200px\" width=\"200px\">\n",
    "<img style=\"-webkit-transform: rotateY(288deg) translateZ(165px); -moz-transform: rotateY(288deg) translateZ(165px); -ms-transform: rotateY(288deg) translateZ(165px); padding: 0px 1px;\" src=\"imgs/TMSC.jpg\" alt=\"\" height=\"300px\" width=\"200px\">\n",
    "</div>\n",
    "</div>\n",
    "<p><p><p>"
   ]
  },
  {
   "cell_type": "code",
   "execution_count": null,
   "metadata": {
    "collapsed": true
   },
   "outputs": [],
   "source": []
  },
  {
   "cell_type": "markdown",
   "metadata": {},
   "source": [
    "Basic of Data Manipulation\n",
    "---\n",
    "|Keys|Methods and Analysis|\n",
    "|---|---|\n",
    "|Data Input/Ouput|- from Python<br>- from Yahoo <br>- from file |\n",
    "|Time series Analysis|- Data Visualisation <br>- Data Visualisation |\n",
    "\n"
   ]
  },
  {
   "cell_type": "markdown",
   "metadata": {},
   "source": [
    "Case Study\n",
    "---\n",
    "How and What the IPhone6 changed the world"
   ]
  },
  {
   "cell_type": "markdown",
   "metadata": {},
   "source": [
    "# Pandas (Factory for Data)"
   ]
  },
  {
   "cell_type": "code",
   "execution_count": 2,
   "metadata": {
    "collapsed": false
   },
   "outputs": [],
   "source": [
    "import datetime\n",
    "\n",
    "import pandas as pd\n",
    "import pandas.io.data\n",
    "from pandas import Series, DataFrame"
   ]
  },
  {
   "cell_type": "code",
   "execution_count": 5,
   "metadata": {
    "collapsed": false
   },
   "outputs": [],
   "source": [
    "%matplotlib inline\n",
    "\n",
    "import matplotlib.pyplot as plt\n",
    "import matplotlib as mpl\n",
    "mpl.rc('figure', figsize=(8, 8))\n"
   ]
  },
  {
   "cell_type": "markdown",
   "metadata": {},
   "source": [
    "Data Input/Output\n",
    "===================\n",
    "\n",
    "Data, $X$, look like\n",
    "\n",
    "$$ \\text{Data: } X({\\omega})=x \\to \\text{Python: } X\\text{['}{\\omega}\\text{']}=x$$\n",
    "\n",
    "where $\\omega$ is the state's variable which we observate, (e.g. time, property), and $x$ is its value."
   ]
  },
  {
   "cell_type": "markdown",
   "metadata": {},
   "source": [
    "Where the data come from\n",
    "------------------\n",
    "\n",
    "* From Python\n",
    "* From Yahoo finance\n",
    "* From CSV files"
   ]
  },
  {
   "cell_type": "markdown",
   "metadata": {},
   "source": [
    "### 1. From Python \n",
    "\n",
    "\n",
    "- pandas.Series([$x_0,\\cdots,x_n$], index=['$\\omega_0$',$\\cdots$,'$\\omega_n$'])\n",
    "  create a time series data with \n",
    "  \n",
    "  $X[$'$\\omega_i$'$]=x_i$\n",
    "  \n",
    "  where rhe variable $\\omega_i$ might be datetime, states, ete; here, the datetime is used."
   ]
  },
  {
   "cell_type": "code",
   "execution_count": 4,
   "metadata": {
    "collapsed": false
   },
   "outputs": [],
   "source": [
    "#Define data from scratch\n",
    "\n",
    "dates = ['2014-06-03','2014-06-10','2014-06-13']\n",
    "close = Series([670,80,80], index=dates)\n"
   ]
  },
  {
   "cell_type": "markdown",
   "metadata": {},
   "source": [
    "Code\n",
    "---\n",
    "    close=\n",
    "    Series([670,80,80], index=['2014-06-03','2014-06-10','2014-06-13'])\n",
    "represents:\n",
    "---\n",
    "    close['2014-06-03']=670\n",
    "    close['2014-06-10']=80\n",
    "    close['2014-06-13']=80"
   ]
  },
  {
   "cell_type": "code",
   "execution_count": 5,
   "metadata": {
    "collapsed": false
   },
   "outputs": [
    {
     "data": {
      "text/plain": [
       "True"
      ]
     },
     "execution_count": 5,
     "metadata": {},
     "output_type": "execute_result"
    }
   ],
   "source": [
    "'2014-06-03' in dates"
   ]
  },
  {
   "cell_type": "code",
   "execution_count": 6,
   "metadata": {
    "collapsed": false
   },
   "outputs": [
    {
     "data": {
      "text/plain": [
       "670"
      ]
     },
     "execution_count": 6,
     "metadata": {},
     "output_type": "execute_result"
    }
   ],
   "source": [
    "close['2014-06-03']"
   ]
  },
  {
   "cell_type": "code",
   "execution_count": 7,
   "metadata": {
    "collapsed": false
   },
   "outputs": [
    {
     "data": {
      "text/plain": [
       "{'2014-06-03': 670, '2014-06-10': 80, '2014-06-13': 80}"
      ]
     },
     "execution_count": 7,
     "metadata": {},
     "output_type": "execute_result"
    }
   ],
   "source": [
    "# Python dict-style data\n",
    "mapping = close.to_dict()\n",
    "mapping"
   ]
  },
  {
   "cell_type": "code",
   "execution_count": 8,
   "metadata": {
    "collapsed": false
   },
   "outputs": [
    {
     "data": {
      "text/plain": [
       "2014-06-03    670\n",
       "2014-06-10     80\n",
       "2014-06-13     80\n",
       "dtype: int64"
      ]
     },
     "execution_count": 8,
     "metadata": {},
     "output_type": "execute_result"
    }
   ],
   "source": [
    "region=Series(close.to_dict())\n",
    "\n",
    "region"
   ]
  },
  {
   "cell_type": "markdown",
   "metadata": {},
   "source": [
    "### From Yahoo finance"
   ]
  },
  {
   "cell_type": "code",
   "execution_count": 10,
   "metadata": {
    "collapsed": false
   },
   "outputs": [
    {
     "data": {
      "text/html": [
       "<div style=\"max-height:1000px;max-width:1500px;overflow:auto;\">\n",
       "<table border=\"1\" class=\"dataframe\">\n",
       "  <thead>\n",
       "    <tr style=\"text-align: right;\">\n",
       "      <th></th>\n",
       "      <th>Open</th>\n",
       "      <th>High</th>\n",
       "      <th>Low</th>\n",
       "      <th>Close</th>\n",
       "      <th>Volume</th>\n",
       "      <th>Adj Close</th>\n",
       "    </tr>\n",
       "    <tr>\n",
       "      <th>Date</th>\n",
       "      <th></th>\n",
       "      <th></th>\n",
       "      <th></th>\n",
       "      <th></th>\n",
       "      <th></th>\n",
       "      <th></th>\n",
       "    </tr>\n",
       "  </thead>\n",
       "  <tbody>\n",
       "    <tr>\n",
       "      <th>2014-06-02</th>\n",
       "      <td> 633.96</td>\n",
       "      <td> 634.83</td>\n",
       "      <td> 622.50</td>\n",
       "      <td> 628.65</td>\n",
       "      <td> 92337700</td>\n",
       "      <td> 88.63</td>\n",
       "    </tr>\n",
       "    <tr>\n",
       "      <th>2014-06-03</th>\n",
       "      <td> 628.46</td>\n",
       "      <td> 638.74</td>\n",
       "      <td> 628.25</td>\n",
       "      <td> 637.54</td>\n",
       "      <td> 73177300</td>\n",
       "      <td> 89.88</td>\n",
       "    </tr>\n",
       "    <tr>\n",
       "      <th>2014-06-04</th>\n",
       "      <td> 637.44</td>\n",
       "      <td> 647.89</td>\n",
       "      <td> 636.11</td>\n",
       "      <td> 644.82</td>\n",
       "      <td> 83870500</td>\n",
       "      <td> 90.91</td>\n",
       "    </tr>\n",
       "    <tr>\n",
       "      <th>2014-06-05</th>\n",
       "      <td> 646.20</td>\n",
       "      <td> 649.37</td>\n",
       "      <td> 642.61</td>\n",
       "      <td> 647.35</td>\n",
       "      <td> 75951400</td>\n",
       "      <td> 91.26</td>\n",
       "    </tr>\n",
       "    <tr>\n",
       "      <th>2014-06-06</th>\n",
       "      <td> 649.90</td>\n",
       "      <td> 651.26</td>\n",
       "      <td> 644.47</td>\n",
       "      <td> 645.57</td>\n",
       "      <td> 87484600</td>\n",
       "      <td> 91.01</td>\n",
       "    </tr>\n",
       "  </tbody>\n",
       "</table>\n",
       "</div>"
      ],
      "text/plain": [
       "              Open    High     Low   Close    Volume  Adj Close\n",
       "Date                                                           \n",
       "2014-06-02  633.96  634.83  622.50  628.65  92337700      88.63\n",
       "2014-06-03  628.46  638.74  628.25  637.54  73177300      89.88\n",
       "2014-06-04  637.44  647.89  636.11  644.82  83870500      90.91\n",
       "2014-06-05  646.20  649.37  642.61  647.35  75951400      91.26\n",
       "2014-06-06  649.90  651.26  644.47  645.57  87484600      91.01"
      ]
     },
     "execution_count": 10,
     "metadata": {},
     "output_type": "execute_result"
    }
   ],
   "source": [
    "aapl = pd.io.data.get_data_yahoo('AAPL', \n",
    "                                 start=datetime.datetime(2014, 6, 1), \n",
    "                                 end=datetime.datetime(2015, 3, 13))\n",
    "aapl.head()"
   ]
  },
  {
   "cell_type": "code",
   "execution_count": 11,
   "metadata": {
    "collapsed": false
   },
   "outputs": [
    {
     "data": {
      "text/html": [
       "<div style=\"max-height:1000px;max-width:1500px;overflow:auto;\">\n",
       "<table border=\"1\" class=\"dataframe\">\n",
       "  <thead>\n",
       "    <tr style=\"text-align: right;\">\n",
       "      <th></th>\n",
       "      <th>Open</th>\n",
       "      <th>High</th>\n",
       "      <th>Low</th>\n",
       "      <th>Close</th>\n",
       "      <th>Volume</th>\n",
       "      <th>Adj Close</th>\n",
       "    </tr>\n",
       "    <tr>\n",
       "      <th>Date</th>\n",
       "      <th></th>\n",
       "      <th></th>\n",
       "      <th></th>\n",
       "      <th></th>\n",
       "      <th></th>\n",
       "      <th></th>\n",
       "    </tr>\n",
       "  </thead>\n",
       "  <tbody>\n",
       "    <tr>\n",
       "      <th>2015-03-09</th>\n",
       "      <td> 23.67</td>\n",
       "      <td> 23.70</td>\n",
       "      <td> 23.26</td>\n",
       "      <td> 23.45</td>\n",
       "      <td> 15379200</td>\n",
       "      <td> 23.45</td>\n",
       "    </tr>\n",
       "    <tr>\n",
       "      <th>2015-03-10</th>\n",
       "      <td> 23.02</td>\n",
       "      <td> 23.26</td>\n",
       "      <td> 22.91</td>\n",
       "      <td> 23.05</td>\n",
       "      <td> 12330200</td>\n",
       "      <td> 23.05</td>\n",
       "    </tr>\n",
       "    <tr>\n",
       "      <th>2015-03-11</th>\n",
       "      <td> 23.41</td>\n",
       "      <td> 23.72</td>\n",
       "      <td> 23.41</td>\n",
       "      <td> 23.49</td>\n",
       "      <td>  9406000</td>\n",
       "      <td> 23.49</td>\n",
       "    </tr>\n",
       "    <tr>\n",
       "      <th>2015-03-12</th>\n",
       "      <td> 23.50</td>\n",
       "      <td> 23.75</td>\n",
       "      <td> 23.47</td>\n",
       "      <td> 23.53</td>\n",
       "      <td> 10863400</td>\n",
       "      <td> 23.53</td>\n",
       "    </tr>\n",
       "    <tr>\n",
       "      <th>2015-03-13</th>\n",
       "      <td> 23.66</td>\n",
       "      <td> 23.97</td>\n",
       "      <td> 23.65</td>\n",
       "      <td> 23.88</td>\n",
       "      <td>  9625600</td>\n",
       "      <td> 23.88</td>\n",
       "    </tr>\n",
       "  </tbody>\n",
       "</table>\n",
       "</div>"
      ],
      "text/plain": [
       "             Open   High    Low  Close    Volume  Adj Close\n",
       "Date                                                       \n",
       "2015-03-09  23.67  23.70  23.26  23.45  15379200      23.45\n",
       "2015-03-10  23.02  23.26  22.91  23.05  12330200      23.05\n",
       "2015-03-11  23.41  23.72  23.41  23.49   9406000      23.49\n",
       "2015-03-12  23.50  23.75  23.47  23.53  10863400      23.53\n",
       "2015-03-13  23.66  23.97  23.65  23.88   9625600      23.88"
      ]
     },
     "execution_count": 11,
     "metadata": {},
     "output_type": "execute_result"
    }
   ],
   "source": [
    "TSM = pd.io.data.get_data_yahoo('TSM', \n",
    "                                 start=datetime.datetime(2014, 6, 1), \n",
    "                                 end=datetime.datetime(2015, 3, 13))\n",
    "TSM.tail()"
   ]
  },
  {
   "cell_type": "code",
   "execution_count": 12,
   "metadata": {
    "collapsed": false
   },
   "outputs": [
    {
     "data": {
      "text/html": [
       "<div style=\"max-height:1000px;max-width:1500px;overflow:auto;\">\n",
       "<table border=\"1\" class=\"dataframe\">\n",
       "  <thead>\n",
       "    <tr style=\"text-align: right;\">\n",
       "      <th></th>\n",
       "      <th>Open</th>\n",
       "      <th>High</th>\n",
       "      <th>Low</th>\n",
       "      <th>Close</th>\n",
       "      <th>Volume</th>\n",
       "      <th>Adj Close</th>\n",
       "    </tr>\n",
       "    <tr>\n",
       "      <th>Date</th>\n",
       "      <th></th>\n",
       "      <th></th>\n",
       "      <th></th>\n",
       "      <th></th>\n",
       "      <th></th>\n",
       "      <th></th>\n",
       "    </tr>\n",
       "  </thead>\n",
       "  <tbody>\n",
       "    <tr>\n",
       "      <th>2015-03-09</th>\n",
       "      <td> 1440000</td>\n",
       "      <td> 1440000</td>\n",
       "      <td> 1420000</td>\n",
       "      <td> 1420000</td>\n",
       "      <td> 156200</td>\n",
       "      <td> 1420000</td>\n",
       "    </tr>\n",
       "    <tr>\n",
       "      <th>2015-03-10</th>\n",
       "      <td> 1434000</td>\n",
       "      <td> 1443000</td>\n",
       "      <td> 1420000</td>\n",
       "      <td> 1421000</td>\n",
       "      <td> 208300</td>\n",
       "      <td> 1421000</td>\n",
       "    </tr>\n",
       "    <tr>\n",
       "      <th>2015-03-11</th>\n",
       "      <td> 1419000</td>\n",
       "      <td> 1479000</td>\n",
       "      <td> 1418000</td>\n",
       "      <td> 1474000</td>\n",
       "      <td> 422100</td>\n",
       "      <td> 1474000</td>\n",
       "    </tr>\n",
       "    <tr>\n",
       "      <th>2015-03-12</th>\n",
       "      <td> 1460000</td>\n",
       "      <td> 1473000</td>\n",
       "      <td> 1447000</td>\n",
       "      <td> 1447000</td>\n",
       "      <td> 383000</td>\n",
       "      <td> 1447000</td>\n",
       "    </tr>\n",
       "    <tr>\n",
       "      <th>2015-03-13</th>\n",
       "      <td> 1461000</td>\n",
       "      <td> 1479000</td>\n",
       "      <td> 1455000</td>\n",
       "      <td> 1457000</td>\n",
       "      <td> 188200</td>\n",
       "      <td> 1457000</td>\n",
       "    </tr>\n",
       "  </tbody>\n",
       "</table>\n",
       "</div>"
      ],
      "text/plain": [
       "               Open     High      Low    Close  Volume  Adj Close\n",
       "Date                                                             \n",
       "2015-03-09  1440000  1440000  1420000  1420000  156200    1420000\n",
       "2015-03-10  1434000  1443000  1420000  1421000  208300    1421000\n",
       "2015-03-11  1419000  1479000  1418000  1474000  422100    1474000\n",
       "2015-03-12  1460000  1473000  1447000  1447000  383000    1447000\n",
       "2015-03-13  1461000  1479000  1455000  1457000  188200    1457000"
      ]
     },
     "execution_count": 12,
     "metadata": {},
     "output_type": "execute_result"
    }
   ],
   "source": [
    "samsung = pd.io.data.get_data_yahoo('005930.KS', \n",
    "                                 start=datetime.datetime(2014, 6, 1), \n",
    "                                 end=datetime.datetime(2015, 3, 13))\n",
    "samsung.tail()"
   ]
  },
  {
   "cell_type": "code",
   "execution_count": 13,
   "metadata": {
    "collapsed": true
   },
   "outputs": [],
   "source": [
    "aapl.to_csv('data/aapl-2015-3-13.csv')\n",
    "TSM.to_csv('data/TSM-2015-3-13.csv')\n",
    "samsung.to_csv('data/samsung-2015-3-13.csv')"
   ]
  },
  {
   "cell_type": "markdown",
   "metadata": {},
   "source": [
    "Also retrieve multi-column data\n",
    "---"
   ]
  },
  {
   "cell_type": "code",
   "execution_count": 14,
   "metadata": {
    "collapsed": false
   },
   "outputs": [
    {
     "data": {
      "text/html": [
       "<div style=\"max-height:1000px;max-width:1500px;overflow:auto;\">\n",
       "<table border=\"1\" class=\"dataframe\">\n",
       "  <thead>\n",
       "    <tr style=\"text-align: right;\">\n",
       "      <th></th>\n",
       "      <th>005930.KS</th>\n",
       "      <th>AAPL</th>\n",
       "      <th>TSM</th>\n",
       "    </tr>\n",
       "    <tr>\n",
       "      <th>Date</th>\n",
       "      <th></th>\n",
       "      <th></th>\n",
       "      <th></th>\n",
       "    </tr>\n",
       "  </thead>\n",
       "  <tbody>\n",
       "    <tr>\n",
       "      <th>2014-06-02</th>\n",
       "      <td> 1433473.27</td>\n",
       "      <td> 88.63</td>\n",
       "      <td> 20.21</td>\n",
       "    </tr>\n",
       "    <tr>\n",
       "      <th>2014-06-03</th>\n",
       "      <td> 1448251.34</td>\n",
       "      <td> 89.88</td>\n",
       "      <td> 20.77</td>\n",
       "    </tr>\n",
       "    <tr>\n",
       "      <th>2014-06-04</th>\n",
       "      <td> 1448251.34</td>\n",
       "      <td> 90.91</td>\n",
       "      <td> 20.64</td>\n",
       "    </tr>\n",
       "    <tr>\n",
       "      <th>2014-06-05</th>\n",
       "      <td> 1435443.68</td>\n",
       "      <td> 91.26</td>\n",
       "      <td> 20.73</td>\n",
       "    </tr>\n",
       "    <tr>\n",
       "      <th>2014-06-06</th>\n",
       "      <td> 1435443.68</td>\n",
       "      <td> 91.01</td>\n",
       "      <td> 20.63</td>\n",
       "    </tr>\n",
       "  </tbody>\n",
       "</table>\n",
       "</div>"
      ],
      "text/plain": [
       "             005930.KS   AAPL    TSM\n",
       "Date                                \n",
       "2014-06-02  1433473.27  88.63  20.21\n",
       "2014-06-03  1448251.34  89.88  20.77\n",
       "2014-06-04  1448251.34  90.91  20.64\n",
       "2014-06-05  1435443.68  91.26  20.73\n",
       "2014-06-06  1435443.68  91.01  20.63"
      ]
     },
     "execution_count": 14,
     "metadata": {},
     "output_type": "execute_result"
    }
   ],
   "source": [
    "df_Pack = pd.io.data.get_data_yahoo(['AAPL', 'TSM', '005930.KS'], \n",
    "                               start=datetime.datetime(2014, 6, 1), \n",
    "                               end=datetime.datetime(2015, 3, 13))['Adj Close']\n",
    "df_Pack.head()"
   ]
  },
  {
   "cell_type": "code",
   "execution_count": 7,
   "metadata": {
    "collapsed": true
   },
   "outputs": [],
   "source": [
    "# Remember save the data\n",
    "df_Pack.to_csv('data/stocks.csv')\n",
    "#!head aapl.csv"
   ]
  },
  {
   "cell_type": "code",
   "execution_count": 15,
   "metadata": {
    "collapsed": false
   },
   "outputs": [],
   "source": [
    "aapl = pd.read_csv('data/aapl-2015-3-13.csv',index_col='Date',parse_dates=True)\n",
    "TSM=pd.read_csv('data/TSM-2015-3-13.csv',index_col='Date', parse_dates=True)\n",
    "samsung=pd.read_csv('data/samsung-2015-3-13.csv',index_col='Date', parse_dates=True)"
   ]
  },
  {
   "cell_type": "code",
   "execution_count": 16,
   "metadata": {
    "collapsed": false
   },
   "outputs": [
    {
     "data": {
      "text/plain": [
       "<matplotlib.legend.Legend at 0x107ba3090>"
      ]
     },
     "execution_count": 16,
     "metadata": {},
     "output_type": "execute_result"
    },
    {
     "data": {
      "image/png": "[encoded data removed]",
      "text/plain": [
       "<matplotlib.figure.Figure at 0x107ba30d0>"
      ]
     },
     "metadata": {},
     "output_type": "display_data"
    }
   ],
   "source": [
    "close_aapl=aapl['Close']\n",
    "close_aapl.plot(label='AAPL')\n",
    "\n",
    "plt.legend()"
   ]
  },
  {
   "cell_type": "markdown",
   "metadata": {},
   "source": [
    "### [QUESTION] What happens during early June, 2014 ?\n",
    "There exists a big jump of the AAPL's price in the market during early June, 2014."
   ]
  },
  {
   "cell_type": "code",
   "execution_count": 17,
   "metadata": {
    "collapsed": false
   },
   "outputs": [
    {
     "data": {
      "text/plain": [
       "Date\n",
       "2014-06-02    628.65\n",
       "2014-06-03    637.54\n",
       "2014-06-04    644.82\n",
       "2014-06-05    647.35\n",
       "2014-06-06    645.57\n",
       "2014-06-09     93.70\n",
       "2014-06-10     94.25\n",
       "2014-06-11     93.86\n",
       "2014-06-12     92.29\n",
       "2014-06-13     91.28\n",
       "Name: Close, dtype: float64"
      ]
     },
     "execution_count": 17,
     "metadata": {},
     "output_type": "execute_result"
    }
   ],
   "source": [
    "aapl['Close'].head(10)"
   ]
  },
  {
   "cell_type": "markdown",
   "metadata": {},
   "source": [
    "### Data Visualisation\n",
    "\n",
    "- Direct Visualization"
   ]
  },
  {
   "cell_type": "code",
   "execution_count": 18,
   "metadata": {
    "collapsed": false
   },
   "outputs": [
    {
     "data": {
      "text/plain": [
       "<matplotlib.legend.Legend at 0x108516d90>"
      ]
     },
     "execution_count": 18,
     "metadata": {},
     "output_type": "execute_result"
    },
    {
     "data": {
      "image/png": "[encoded data removed]",
      "text/plain": [
       "<matplotlib.figure.Figure at 0x108516dd0>"
      ]
     },
     "metadata": {},
     "output_type": "display_data"
    }
   ],
   "source": [
    "close_aapl=aapl['Close'][10:]\n",
    "close_TSM=TSM['Close'][10:]\n",
    "close_samsung=samsung['Close']\n",
    "\n",
    "close_aapl.plot(label='AAPL')\n",
    "close_TSM.plot(label='TSM')\n",
    "close_samsung.plot(label='Samsung',figsize=[8,6])\n",
    "#mavg.plot(label='mavg')\n",
    "plt.legend(loc='lower left')"
   ]
  },
  {
   "cell_type": "markdown",
   "metadata": {},
   "source": [
    "Where are the pictures of AAPL and TMC?"
   ]
  },
  {
   "cell_type": "markdown",
   "metadata": {},
   "source": [
    "### Better, but ...\n",
    "\n",
    "- Subplots respectively "
   ]
  },
  {
   "cell_type": "code",
   "execution_count": 19,
   "metadata": {
    "collapsed": false
   },
   "outputs": [
    {
     "data": {
      "text/plain": [
       "<matplotlib.text.Text at 0x109fa5a50>"
      ]
     },
     "execution_count": 19,
     "metadata": {},
     "output_type": "execute_result"
    },
    {
     "data": {
      "image/png": "[encoded data removed]",
      "text/plain": [
       "<matplotlib.figure.Figure at 0x10855fa90>"
      ]
     },
     "metadata": {},
     "output_type": "display_data"
    }
   ],
   "source": [
    "fig=plt.figure(figsize=(8,10))\n",
    "close_aapl=aapl['Close'][10:]\n",
    "close_TSM=TSM['Close'][10:]\n",
    "close_samsung=samsung['Close'][10:]\n",
    "\n",
    "ax1 = fig.add_subplot(311)\n",
    "close_aapl.plot(ax=ax1,color='red')\n",
    "plt.title('Apple Inc.')\n",
    "\n",
    "ax2 = fig.add_subplot(312)\n",
    "close_TSM.plot(ax=ax2,color='blue')\n",
    "plt.title('TSMC')\n",
    "\n",
    "ax3 = fig.add_subplot(313)\n",
    "close_samsung.plot(ax=ax3,color='green')\n",
    "plt.title('Samsung')\n",
    "#mavg.plot(label='mavg')\n",
    "#plt.legend()"
   ]
  },
  {
   "cell_type": "markdown",
   "metadata": {},
   "source": [
    "### Data Rescaling "
   ]
  },
  {
   "cell_type": "code",
   "execution_count": 18,
   "metadata": {
    "collapsed": false
   },
   "outputs": [
    {
     "data": {
      "text/plain": [
       "<matplotlib.legend.Legend at 0x108a34d50>"
      ]
     },
     "execution_count": 18,
     "metadata": {},
     "output_type": "execute_result"
    },
    {
     "data": {
      "image/png": "[encoded data removed]",
      "text/plain": [
       "<matplotlib.figure.Figure at 0x108d72410>"
      ]
     },
     "metadata": {},
     "output_type": "display_data"
    }
   ],
   "source": [
    "%matplotlib inline\n",
    "\n",
    "close_aapl=aapl['Close'][10:]\n",
    "close_TSM=TSM['Close'][10:]*aapl['Close'][10]/TSM['Close'][0]\n",
    "close_samsung=samsung['Close'][10:]*aapl['Close'][10]/samsung['Close'][0]\n",
    "\n",
    "close_aapl.plot(label='AAPL' )\n",
    "close_TSM.plot(label='TSM*%s' %TSM['Close'][0])\n",
    "close_samsung.plot(label='Samsung*%s' %samsung['Close'][0])\n",
    "#mavg.plot(label='mavg')\n",
    "\n",
    "plt.legend(loc='upper left')"
   ]
  },
  {
   "cell_type": "code",
   "execution_count": 19,
   "metadata": {
    "collapsed": false
   },
   "outputs": [
    {
     "data": {
      "text/plain": [
       "<class 'pandas.tseries.index.DatetimeIndex'>\n",
       "[2014-06-02, ..., 2015-03-10]\n",
       "Length: 195, Freq: None, Timezone: None"
      ]
     },
     "execution_count": 19,
     "metadata": {},
     "output_type": "execute_result"
    }
   ],
   "source": [
    "aapl.index"
   ]
  },
  {
   "cell_type": "markdown",
   "metadata": {},
   "source": [
    "### From CSV files"
   ]
  },
  {
   "cell_type": "code",
   "execution_count": 20,
   "metadata": {
    "collapsed": false
   },
   "outputs": [
    {
     "data": {
      "text/html": [
       "<div style=\"max-height:1000px;max-width:1500px;overflow:auto;\">\n",
       "<table border=\"1\" class=\"dataframe\">\n",
       "  <thead>\n",
       "    <tr style=\"text-align: right;\">\n",
       "      <th></th>\n",
       "      <th>Open</th>\n",
       "      <th>High</th>\n",
       "      <th>Low</th>\n",
       "      <th>Close</th>\n",
       "      <th>Volume</th>\n",
       "      <th>Adj Close</th>\n",
       "    </tr>\n",
       "    <tr>\n",
       "      <th>Date</th>\n",
       "      <th></th>\n",
       "      <th></th>\n",
       "      <th></th>\n",
       "      <th></th>\n",
       "      <th></th>\n",
       "      <th></th>\n",
       "    </tr>\n",
       "  </thead>\n",
       "  <tbody>\n",
       "    <tr>\n",
       "      <th>2014-06-02</th>\n",
       "      <td> 633.96</td>\n",
       "      <td> 634.83</td>\n",
       "      <td> 622.50</td>\n",
       "      <td> 628.65</td>\n",
       "      <td> 92337700</td>\n",
       "      <td> 88.63</td>\n",
       "    </tr>\n",
       "    <tr>\n",
       "      <th>2014-06-03</th>\n",
       "      <td> 628.46</td>\n",
       "      <td> 638.74</td>\n",
       "      <td> 628.25</td>\n",
       "      <td> 637.54</td>\n",
       "      <td> 73177300</td>\n",
       "      <td> 89.88</td>\n",
       "    </tr>\n",
       "    <tr>\n",
       "      <th>2014-06-04</th>\n",
       "      <td> 637.44</td>\n",
       "      <td> 647.89</td>\n",
       "      <td> 636.11</td>\n",
       "      <td> 644.82</td>\n",
       "      <td> 83870500</td>\n",
       "      <td> 90.91</td>\n",
       "    </tr>\n",
       "    <tr>\n",
       "      <th>2014-06-05</th>\n",
       "      <td> 646.20</td>\n",
       "      <td> 649.37</td>\n",
       "      <td> 642.61</td>\n",
       "      <td> 647.35</td>\n",
       "      <td> 75951400</td>\n",
       "      <td> 91.26</td>\n",
       "    </tr>\n",
       "    <tr>\n",
       "      <th>2014-06-06</th>\n",
       "      <td> 649.90</td>\n",
       "      <td> 651.26</td>\n",
       "      <td> 644.47</td>\n",
       "      <td> 645.57</td>\n",
       "      <td> 87484600</td>\n",
       "      <td> 91.01</td>\n",
       "    </tr>\n",
       "  </tbody>\n",
       "</table>\n",
       "</div>"
      ],
      "text/plain": [
       "              Open    High     Low   Close    Volume  Adj Close\n",
       "Date                                                           \n",
       "2014-06-02  633.96  634.83  622.50  628.65  92337700      88.63\n",
       "2014-06-03  628.46  638.74  628.25  637.54  73177300      89.88\n",
       "2014-06-04  637.44  647.89  636.11  644.82  83870500      90.91\n",
       "2014-06-05  646.20  649.37  642.61  647.35  75951400      91.26\n",
       "2014-06-06  649.90  651.26  644.47  645.57  87484600      91.01"
      ]
     },
     "execution_count": 20,
     "metadata": {},
     "output_type": "execute_result"
    }
   ],
   "source": [
    "df_aapl = pd.read_csv('data/aapl-2015-3-13.csv', index_col='Date', parse_dates=True)\n",
    "df_aapl.head()"
   ]
  },
  {
   "cell_type": "code",
   "execution_count": 30,
   "metadata": {
    "collapsed": false
   },
   "outputs": [
    {
     "data": {
      "text/plain": [
       "<class 'pandas.tseries.index.DatetimeIndex'>\n",
       "[2014-06-02, ..., 2015-03-10]\n",
       "Length: 195, Freq: None, Timezone: None"
      ]
     },
     "execution_count": 30,
     "metadata": {},
     "output_type": "execute_result"
    }
   ],
   "source": [
    "df_aapl.index"
   ]
  },
  {
   "cell_type": "markdown",
   "metadata": {},
   "source": [
    "Relation between Apple and TMSC  \n",
    "================\n",
    "Friends or Enemies?\n",
    "---"
   ]
  },
  {
   "cell_type": "code",
   "execution_count": 21,
   "metadata": {
    "collapsed": false
   },
   "outputs": [],
   "source": [
    "aapl_return=aapl['Close'].pct_change()\n",
    "TSM_return=TSM['Close'].pct_change()\n"
   ]
  },
  {
   "cell_type": "code",
   "execution_count": 22,
   "metadata": {
    "collapsed": false
   },
   "outputs": [
    {
     "data": {
      "text/plain": [
       "(Date\n",
       " 2015-03-02    0.004904\n",
       " 2015-03-03    0.002092\n",
       " 2015-03-04   -0.006339\n",
       " 2015-03-05   -0.016571\n",
       " 2015-03-06    0.001503\n",
       " 2015-03-09    0.004265\n",
       " 2015-03-10   -0.020686\n",
       " 2015-03-11   -0.018231\n",
       " 2015-03-12    0.018079\n",
       " 2015-03-13   -0.006910\n",
       " Name: Close, dtype: float64, Date\n",
       " 2015-03-02    0.004077\n",
       " 2015-03-03   -0.005278\n",
       " 2015-03-04   -0.006939\n",
       " 2015-03-05    0.005343\n",
       " 2015-03-06   -0.015127\n",
       " 2015-03-09   -0.026567\n",
       " 2015-03-10   -0.017058\n",
       " 2015-03-11    0.019089\n",
       " 2015-03-12    0.001703\n",
       " 2015-03-13    0.014875\n",
       " Name: Close, dtype: float64)"
      ]
     },
     "execution_count": 22,
     "metadata": {},
     "output_type": "execute_result"
    }
   ],
   "source": [
    "aapl_return[-10:],TSM_return[-10:]"
   ]
  },
  {
   "cell_type": "code",
   "execution_count": 23,
   "metadata": {
    "collapsed": false
   },
   "outputs": [
    {
     "data": {
      "text/plain": [
       "\n",
       "-------------------------Summary of Regression Analysis-------------------------\n",
       "\n",
       "Formula: Y ~ <x> + <intercept>\n",
       "\n",
       "Number of Observations:         197\n",
       "Number of Degrees of Freedom:   2\n",
       "\n",
       "R-squared:         0.0005\n",
       "Adj R-squared:    -0.0046\n",
       "\n",
       "Rmse:              0.0166\n",
       "\n",
       "F-stat (1, 195):     0.1050, p-value:     0.7463\n",
       "\n",
       "Degrees of Freedom: model 1, resid 195\n",
       "\n",
       "-----------------------Summary of Estimated Coefficients------------------------\n",
       "      Variable       Coef    Std Err     t-stat    p-value    CI 2.5%   CI 97.5%\n",
       "--------------------------------------------------------------------------------\n",
       "             x     0.0061     0.0189       0.32     0.7463    -0.0310     0.0433\n",
       "     intercept     0.0009     0.0012       0.75     0.4540    -0.0014     0.0032\n",
       "---------------------------------End of Summary---------------------------------"
      ]
     },
     "execution_count": 23,
     "metadata": {},
     "output_type": "execute_result"
    }
   ],
   "source": [
    "corr1=pd.ols(y=TSM_return,x=aapl_return)\n",
    "corr1"
   ]
  },
  {
   "cell_type": "code",
   "execution_count": 24,
   "metadata": {
    "collapsed": false
   },
   "outputs": [
    {
     "data": {
      "text/plain": [
       "x            0.006138\n",
       "intercept    0.000888\n",
       "dtype: float64"
      ]
     },
     "execution_count": 24,
     "metadata": {},
     "output_type": "execute_result"
    }
   ],
   "source": [
    "corr1.beta"
   ]
  },
  {
   "cell_type": "code",
   "execution_count": 25,
   "metadata": {
    "collapsed": false
   },
   "outputs": [
    {
     "data": {
      "text/plain": [
       "(-0.1, 0.1)"
      ]
     },
     "execution_count": 25,
     "metadata": {},
     "output_type": "execute_result"
    },
    {
     "data": {
      "image/png": "[encoded data removed]",
      "text/plain": [
       "<matplotlib.figure.Figure at 0x10a98a210>"
      ]
     },
     "metadata": {},
     "output_type": "display_data"
    }
   ],
   "source": [
    "import numpy as np\n",
    "plt.plot( aapl_return, 'r--')\n",
    "plt.plot(TSM_return,  'g--')\n",
    "\n",
    "ax = plt.axis()  # grab axis values\n",
    "x = np.linspace(ax[0], ax[1] + 0.01)\n",
    "#plt.plot(x, corr1.beta[1] + corr1.beta[0] * x, 'b', lw=2)\n",
    "\n",
    "plt.grid(True)\n",
    "plt.ylim([-0.1,0.1])\n",
    "#plt.axis('tight')"
   ]
  },
  {
   "cell_type": "markdown",
   "metadata": {},
   "source": [
    "Series and DataFrame: First steps\n",
    "=================================\n",
    "\n",
    "* **Indexing**: data at specified dates; \n",
    "* **Slicing**: data during certain time period;\n",
    "* **Selected Data**: Selected data by certain conditions;\n",
    "* **Creating new columns**: analysis."
   ]
  },
  {
   "cell_type": "code",
   "execution_count": 34,
   "metadata": {
    "collapsed": false
   },
   "outputs": [
    {
     "name": "stdout",
     "output_type": "stream",
     "text": [
      "Closed prices of the last 10 days:\n"
     ]
    },
    {
     "data": {
      "text/plain": [
       "Date\n",
       "2015-02-25    128.79\n",
       "2015-02-26    130.42\n",
       "2015-02-27    128.46\n",
       "2015-03-02    129.09\n",
       "2015-03-03    129.36\n",
       "2015-03-04    128.54\n",
       "2015-03-05    126.41\n",
       "2015-03-06    126.60\n",
       "2015-03-09    127.14\n",
       "2015-03-10    124.51\n",
       "Name: Close, dtype: float64"
      ]
     },
     "execution_count": 34,
     "metadata": {},
     "output_type": "execute_result"
    }
   ],
   "source": [
    "print(\"Closed prices of the last 10 days:\")\n",
    "ts_aapl = df_aapl['Close'][-10:]\n",
    "ts_aapl"
   ]
  },
  {
   "cell_type": "markdown",
   "metadata": {},
   "source": [
    "### indexing\n",
    "\n",
    "A DataFrame is a collection of Series objects. Slicing out a DataFrame column returns a Series."
   ]
  },
  {
   "cell_type": "code",
   "execution_count": 35,
   "metadata": {
    "collapsed": false
   },
   "outputs": [
    {
     "name": "stdout",
     "output_type": "stream",
     "text": [
      " The fifth day:\n"
     ]
    },
    {
     "data": {
      "text/plain": [
       "Timestamp('2015-03-04 00:00:00')"
      ]
     },
     "execution_count": 35,
     "metadata": {},
     "output_type": "execute_result"
    }
   ],
   "source": [
    "print(\" The fifth day:\")\n",
    "date = ts_aapl.index[5]\n",
    "date"
   ]
  },
  {
   "cell_type": "code",
   "execution_count": 39,
   "metadata": {
    "collapsed": false
   },
   "outputs": [
    {
     "name": "stdout",
     "output_type": "stream",
     "text": [
      "(111.89, 111.89)\n"
     ]
    }
   ],
   "source": [
    "print(ts_aapl[date],ts_aapl[5])"
   ]
  },
  {
   "cell_type": "markdown",
   "metadata": {},
   "source": [
    "### Selected Data\n",
    "We can also select multiple columns."
   ]
  },
  {
   "cell_type": "code",
   "execution_count": 29,
   "metadata": {
    "collapsed": false
   },
   "outputs": [
    {
     "data": {
      "text/html": [
       "<div style=\"max-height:1000px;max-width:1500px;overflow:auto;\">\n",
       "<table border=\"1\" class=\"dataframe\">\n",
       "  <thead>\n",
       "    <tr style=\"text-align: right;\">\n",
       "      <th></th>\n",
       "      <th>Open</th>\n",
       "      <th>Close</th>\n",
       "    </tr>\n",
       "    <tr>\n",
       "      <th>Date</th>\n",
       "      <th></th>\n",
       "      <th></th>\n",
       "    </tr>\n",
       "  </thead>\n",
       "  <tbody>\n",
       "    <tr>\n",
       "      <th>2014-06-02</th>\n",
       "      <td> 633.96</td>\n",
       "      <td> 628.65</td>\n",
       "    </tr>\n",
       "    <tr>\n",
       "      <th>2014-06-03</th>\n",
       "      <td> 628.46</td>\n",
       "      <td> 637.54</td>\n",
       "    </tr>\n",
       "    <tr>\n",
       "      <th>2014-06-04</th>\n",
       "      <td> 637.44</td>\n",
       "      <td> 644.82</td>\n",
       "    </tr>\n",
       "    <tr>\n",
       "      <th>2014-06-05</th>\n",
       "      <td> 646.20</td>\n",
       "      <td> 647.35</td>\n",
       "    </tr>\n",
       "    <tr>\n",
       "      <th>2014-06-06</th>\n",
       "      <td> 649.90</td>\n",
       "      <td> 645.57</td>\n",
       "    </tr>\n",
       "  </tbody>\n",
       "</table>\n",
       "</div>"
      ],
      "text/plain": [
       "              Open   Close\n",
       "Date                      \n",
       "2014-06-02  633.96  628.65\n",
       "2014-06-03  628.46  637.54\n",
       "2014-06-04  637.44  644.82\n",
       "2014-06-05  646.20  647.35\n",
       "2014-06-06  649.90  645.57"
      ]
     },
     "execution_count": 29,
     "metadata": {},
     "output_type": "execute_result"
    }
   ],
   "source": [
    "df_aapl[['Open', 'Close']].head()"
   ]
  },
  {
   "cell_type": "markdown",
   "metadata": {},
   "source": [
    "###Creating New Column\n",
    "New columns can be added on the fly."
   ]
  },
  {
   "cell_type": "code",
   "execution_count": 36,
   "metadata": {
    "collapsed": false
   },
   "outputs": [
    {
     "data": {
      "text/html": [
       "<div style=\"max-height:1000px;max-width:1500px;overflow:auto;\">\n",
       "<table border=\"1\" class=\"dataframe\">\n",
       "  <thead>\n",
       "    <tr style=\"text-align: right;\">\n",
       "      <th></th>\n",
       "      <th>Open</th>\n",
       "      <th>High</th>\n",
       "      <th>Low</th>\n",
       "      <th>Close</th>\n",
       "      <th>Volume</th>\n",
       "      <th>Adj Close</th>\n",
       "      <th>diff</th>\n",
       "    </tr>\n",
       "    <tr>\n",
       "      <th>Date</th>\n",
       "      <th></th>\n",
       "      <th></th>\n",
       "      <th></th>\n",
       "      <th></th>\n",
       "      <th></th>\n",
       "      <th></th>\n",
       "      <th></th>\n",
       "    </tr>\n",
       "  </thead>\n",
       "  <tbody>\n",
       "    <tr>\n",
       "      <th>2014-06-02</th>\n",
       "      <td> 633.96</td>\n",
       "      <td> 634.83</td>\n",
       "      <td> 622.50</td>\n",
       "      <td> 628.65</td>\n",
       "      <td> 92337700</td>\n",
       "      <td> 88.63</td>\n",
       "      <td> 5.31</td>\n",
       "    </tr>\n",
       "    <tr>\n",
       "      <th>2014-06-03</th>\n",
       "      <td> 628.46</td>\n",
       "      <td> 638.74</td>\n",
       "      <td> 628.25</td>\n",
       "      <td> 637.54</td>\n",
       "      <td> 73177300</td>\n",
       "      <td> 89.88</td>\n",
       "      <td>-9.08</td>\n",
       "    </tr>\n",
       "    <tr>\n",
       "      <th>2014-06-04</th>\n",
       "      <td> 637.44</td>\n",
       "      <td> 647.89</td>\n",
       "      <td> 636.11</td>\n",
       "      <td> 644.82</td>\n",
       "      <td> 83870500</td>\n",
       "      <td> 90.91</td>\n",
       "      <td>-7.38</td>\n",
       "    </tr>\n",
       "    <tr>\n",
       "      <th>2014-06-05</th>\n",
       "      <td> 646.20</td>\n",
       "      <td> 649.37</td>\n",
       "      <td> 642.61</td>\n",
       "      <td> 647.35</td>\n",
       "      <td> 75951400</td>\n",
       "      <td> 91.26</td>\n",
       "      <td>-1.15</td>\n",
       "    </tr>\n",
       "    <tr>\n",
       "      <th>2014-06-06</th>\n",
       "      <td> 649.90</td>\n",
       "      <td> 651.26</td>\n",
       "      <td> 644.47</td>\n",
       "      <td> 645.57</td>\n",
       "      <td> 87484600</td>\n",
       "      <td> 91.01</td>\n",
       "      <td> 4.33</td>\n",
       "    </tr>\n",
       "  </tbody>\n",
       "</table>\n",
       "</div>"
      ],
      "text/plain": [
       "              Open    High     Low   Close    Volume  Adj Close  diff\n",
       "Date                                                                 \n",
       "2014-06-02  633.96  634.83  622.50  628.65  92337700      88.63  5.31\n",
       "2014-06-03  628.46  638.74  628.25  637.54  73177300      89.88 -9.08\n",
       "2014-06-04  637.44  647.89  636.11  644.82  83870500      90.91 -7.38\n",
       "2014-06-05  646.20  649.37  642.61  647.35  75951400      91.26 -1.15\n",
       "2014-06-06  649.90  651.26  644.47  645.57  87484600      91.01  4.33"
      ]
     },
     "execution_count": 36,
     "metadata": {},
     "output_type": "execute_result"
    }
   ],
   "source": [
    "df_aapl['diff'] = df_aapl.Open - df_aapl.Close\n",
    "df_aapl.head()"
   ]
  },
  {
   "cell_type": "markdown",
   "metadata": {},
   "source": [
    "### Delete column\n",
    "...and deleted on the fly."
   ]
  },
  {
   "cell_type": "code",
   "execution_count": 32,
   "metadata": {
    "collapsed": false
   },
   "outputs": [
    {
     "data": {
      "text/html": [
       "<div style=\"max-height:1000px;max-width:1500px;overflow:auto;\">\n",
       "<table border=\"1\" class=\"dataframe\">\n",
       "  <thead>\n",
       "    <tr style=\"text-align: right;\">\n",
       "      <th></th>\n",
       "      <th>Open</th>\n",
       "      <th>High</th>\n",
       "      <th>Low</th>\n",
       "      <th>Close</th>\n",
       "      <th>Volume</th>\n",
       "      <th>Adj Close</th>\n",
       "    </tr>\n",
       "    <tr>\n",
       "      <th>Date</th>\n",
       "      <th></th>\n",
       "      <th></th>\n",
       "      <th></th>\n",
       "      <th></th>\n",
       "      <th></th>\n",
       "      <th></th>\n",
       "    </tr>\n",
       "  </thead>\n",
       "  <tbody>\n",
       "    <tr>\n",
       "      <th>2014-06-02</th>\n",
       "      <td> 633.96</td>\n",
       "      <td> 634.83</td>\n",
       "      <td> 622.50</td>\n",
       "      <td> 628.65</td>\n",
       "      <td> 92337700</td>\n",
       "      <td> 88.98</td>\n",
       "    </tr>\n",
       "    <tr>\n",
       "      <th>2014-06-03</th>\n",
       "      <td> 628.46</td>\n",
       "      <td> 638.74</td>\n",
       "      <td> 628.25</td>\n",
       "      <td> 637.54</td>\n",
       "      <td> 73177300</td>\n",
       "      <td> 90.24</td>\n",
       "    </tr>\n",
       "    <tr>\n",
       "      <th>2014-06-04</th>\n",
       "      <td> 637.44</td>\n",
       "      <td> 647.89</td>\n",
       "      <td> 636.11</td>\n",
       "      <td> 644.82</td>\n",
       "      <td> 83870500</td>\n",
       "      <td> 91.27</td>\n",
       "    </tr>\n",
       "    <tr>\n",
       "      <th>2014-06-05</th>\n",
       "      <td> 646.20</td>\n",
       "      <td> 649.37</td>\n",
       "      <td> 642.61</td>\n",
       "      <td> 647.35</td>\n",
       "      <td> 75951400</td>\n",
       "      <td> 91.62</td>\n",
       "    </tr>\n",
       "    <tr>\n",
       "      <th>2014-06-06</th>\n",
       "      <td> 649.90</td>\n",
       "      <td> 651.26</td>\n",
       "      <td> 644.47</td>\n",
       "      <td> 645.57</td>\n",
       "      <td> 87484600</td>\n",
       "      <td> 91.37</td>\n",
       "    </tr>\n",
       "  </tbody>\n",
       "</table>\n",
       "</div>"
      ],
      "text/plain": [
       "              Open    High     Low   Close    Volume  Adj Close\n",
       "Date                                                           \n",
       "2014-06-02  633.96  634.83  622.50  628.65  92337700      88.98\n",
       "2014-06-03  628.46  638.74  628.25  637.54  73177300      90.24\n",
       "2014-06-04  637.44  647.89  636.11  644.82  83870500      91.27\n",
       "2014-06-05  646.20  649.37  642.61  647.35  75951400      91.62\n",
       "2014-06-06  649.90  651.26  644.47  645.57  87484600      91.37"
      ]
     },
     "execution_count": 32,
     "metadata": {},
     "output_type": "execute_result"
    }
   ],
   "source": [
    "del df_aapl['diff']\n",
    "df_aapl.head()"
   ]
  },
  {
   "cell_type": "markdown",
   "metadata": {},
   "source": [
    "Common Financial Computations\n",
    "-----------------------------\n",
    "\n",
    "- **Moving Average**: pandas.rolling_mean(*data*, *denumerator of average*)\n",
    "$$ $$\n",
    "$$ \\text{MAvg}=\\frac{X_t+\\cdots+X_{t+n-1}}{n\\text{ days}}$$\n",
    "- **Returns**: data.pct_change( ) which is defined as follows:\n",
    "$$r_t = \\frac{p_t - p_{t-1}}{p_{t-1}} = \\frac{p_t}{p_{t-1}} - 1$$"
   ]
  },
  {
   "cell_type": "code",
   "execution_count": 37,
   "metadata": {
    "collapsed": false
   },
   "outputs": [],
   "source": [
    "close_px_aapl = df_aapl['Adj Close']"
   ]
  },
  {
   "cell_type": "markdown",
   "metadata": {},
   "source": [
    "### Moving Average\n",
    "\n",
    "40-days Average "
   ]
  },
  {
   "cell_type": "code",
   "execution_count": 38,
   "metadata": {
    "collapsed": false
   },
   "outputs": [
    {
     "data": {
      "text/plain": [
       "Date\n",
       "2015-02-25    116.56375\n",
       "2015-02-26    116.98775\n",
       "2015-02-27    117.39725\n",
       "2015-03-02    117.87575\n",
       "2015-03-03    118.38725\n",
       "2015-03-04    118.95500\n",
       "2015-03-05    119.46925\n",
       "2015-03-06    119.95100\n",
       "2015-03-09    120.34325\n",
       "2015-03-10    120.66675\n",
       "dtype: float64"
      ]
     },
     "execution_count": 38,
     "metadata": {},
     "output_type": "execute_result"
    }
   ],
   "source": [
    "mavg_aapl = pd.rolling_mean(close_px_aapl, 40)\n",
    "mavg_aapl[-10:]"
   ]
  },
  {
   "cell_type": "markdown",
   "metadata": {},
   "source": [
    "### Returns\n",
    "\n",
    "Revenue"
   ]
  },
  {
   "cell_type": "code",
   "execution_count": 39,
   "metadata": {
    "collapsed": false
   },
   "outputs": [
    {
     "data": {
      "text/plain": [
       "Date\n",
       "2014-06-02         NaN\n",
       "2014-06-03    0.014104\n",
       "2014-06-04    0.011460\n",
       "2014-06-05    0.003850\n",
       "2014-06-06   -0.002739\n",
       "Name: Adj Close, dtype: float64"
      ]
     },
     "execution_count": 39,
     "metadata": {},
     "output_type": "execute_result"
    }
   ],
   "source": [
    "rets_aapl = close_px_aapl / close_px_aapl.shift(1) - 1\n",
    "rets_aapl.head()"
   ]
  },
  {
   "cell_type": "markdown",
   "metadata": {},
   "source": [
    "[Note] NaN means \"not a number\"."
   ]
  },
  {
   "cell_type": "markdown",
   "metadata": {},
   "source": [
    "Or alternatively `.pct_change()`."
   ]
  },
  {
   "cell_type": "code",
   "execution_count": 37,
   "metadata": {
    "collapsed": false
   },
   "outputs": [
    {
     "data": {
      "text/plain": [
       "Date\n",
       "2014-06-02         NaN\n",
       "2014-06-03    0.014160\n",
       "2014-06-04    0.011414\n",
       "2014-06-05    0.003835\n",
       "2014-06-06   -0.002729\n",
       "Name: Adj Close, dtype: float64"
      ]
     },
     "execution_count": 37,
     "metadata": {},
     "output_type": "execute_result"
    }
   ],
   "source": [
    "close_px_aapl.pct_change().head()"
   ]
  },
  {
   "cell_type": "markdown",
   "metadata": {},
   "source": [
    "Plotting Basics\n",
    "---------------"
   ]
  },
  {
   "cell_type": "markdown",
   "metadata": {},
   "source": [
    "Series and DataFrames have an associated `.plot()` command (uses Matplotlib behind the scenes)."
   ]
  },
  {
   "cell_type": "code",
   "execution_count": null,
   "metadata": {
    "collapsed": false
   },
   "outputs": [],
   "source": [
    "close_px_aapl.plot(label='AAPL')\n",
    "mavg_aapl.plot(label='mavg')\n",
    "plt.legend('upper left')"
   ]
  },
  {
   "cell_type": "markdown",
   "metadata": {},
   "source": [
    "## Optional"
   ]
  },
  {
   "cell_type": "code",
   "execution_count": 28,
   "metadata": {
    "collapsed": false
   },
   "outputs": [
    {
     "data": {
      "text/html": [
       "<div style=\"max-height:1000px;max-width:1500px;overflow:auto;\">\n",
       "<table border=\"1\" class=\"dataframe\">\n",
       "  <thead>\n",
       "    <tr style=\"text-align: right;\">\n",
       "      <th></th>\n",
       "      <th>005930.KS</th>\n",
       "      <th>AAPL</th>\n",
       "      <th>TSM</th>\n",
       "    </tr>\n",
       "    <tr>\n",
       "      <th>Date</th>\n",
       "      <th></th>\n",
       "      <th></th>\n",
       "      <th></th>\n",
       "    </tr>\n",
       "  </thead>\n",
       "  <tbody>\n",
       "    <tr>\n",
       "      <th>2015-03-09</th>\n",
       "      <td> 1420000</td>\n",
       "      <td> 127.14</td>\n",
       "      <td> 23.45</td>\n",
       "    </tr>\n",
       "    <tr>\n",
       "      <th>2015-03-10</th>\n",
       "      <td> 1421000</td>\n",
       "      <td> 124.51</td>\n",
       "      <td> 23.05</td>\n",
       "    </tr>\n",
       "    <tr>\n",
       "      <th>2015-03-11</th>\n",
       "      <td> 1474000</td>\n",
       "      <td> 122.24</td>\n",
       "      <td> 23.49</td>\n",
       "    </tr>\n",
       "    <tr>\n",
       "      <th>2015-03-12</th>\n",
       "      <td> 1447000</td>\n",
       "      <td> 124.45</td>\n",
       "      <td> 23.53</td>\n",
       "    </tr>\n",
       "    <tr>\n",
       "      <th>2015-03-13</th>\n",
       "      <td> 1457000</td>\n",
       "      <td> 123.59</td>\n",
       "      <td> 23.88</td>\n",
       "    </tr>\n",
       "  </tbody>\n",
       "</table>\n",
       "</div>"
      ],
      "text/plain": [
       "            005930.KS    AAPL    TSM\n",
       "Date                                \n",
       "2015-03-09    1420000  127.14  23.45\n",
       "2015-03-10    1421000  124.51  23.05\n",
       "2015-03-11    1474000  122.24  23.49\n",
       "2015-03-12    1447000  124.45  23.53\n",
       "2015-03-13    1457000  123.59  23.88"
      ]
     },
     "execution_count": 28,
     "metadata": {},
     "output_type": "execute_result"
    }
   ],
   "source": [
    "df_Pack = pd.io.data.get_data_yahoo(['AAPL', 'TSM', '005930.KS'], \n",
    "                               start=datetime.datetime(2014, 6, 1), \n",
    "                               end=datetime.datetime(2015, 3, 15))['Adj Close']\n",
    "df_Pack.tail()"
   ]
  },
  {
   "cell_type": "code",
   "execution_count": null,
   "metadata": {
    "collapsed": true
   },
   "outputs": [],
   "source": [
    "df_Pack = pd.io.data.get_data_yahoo(['AAPL', 'TSM', '005930.KS'], \n",
    "                               start=datetime.datetime(2014, 6, 1), \n",
    "                               end=datetime.datetime(2015, 1, 15))['Adj Close']\n",
    "df_Pack.head()"
   ]
  },
  {
   "cell_type": "code",
   "execution_count": 29,
   "metadata": {
    "collapsed": false
   },
   "outputs": [],
   "source": [
    "rets_Pack = df_Pack.pct_change()"
   ]
  },
  {
   "cell_type": "markdown",
   "metadata": {},
   "source": [
    "## What the relation among Apple Inc., TMSC and Samsung\n",
    "\n",
    "- plt.scatter[data A, data B]\n",
    "- pd.scatter_matrix(DataPack, diagonal=kde):  scatter for multiple data with kde at the diagonal element.\n",
    "- dataPack.corr(): correlation matrix "
   ]
  },
  {
   "cell_type": "code",
   "execution_count": 30,
   "metadata": {
    "collapsed": false
   },
   "outputs": [
    {
     "data": {
      "text/plain": [
       "<matplotlib.text.Text at 0x10d123a90>"
      ]
     },
     "execution_count": 30,
     "metadata": {},
     "output_type": "execute_result"
    },
    {
     "data": {
      "image/png": "[encoded data removed]",
      "text/plain": [
       "<matplotlib.figure.Figure at 0x10cad5190>"
      ]
     },
     "metadata": {},
     "output_type": "display_data"
    }
   ],
   "source": [
    "plt.scatter(rets_Pack.AAPL, rets_Pack.TSM)\n",
    "plt.xlabel('Returns aapl')\n",
    "plt.ylabel('Returns TSM')"
   ]
  },
  {
   "cell_type": "code",
   "execution_count": 31,
   "metadata": {
    "collapsed": false
   },
   "outputs": [
    {
     "data": {
      "image/png": "[encoded data removed]",
      "text/plain": [
       "<matplotlib.figure.Figure at 0x10ca94b10>"
      ]
     },
     "metadata": {},
     "output_type": "display_data"
    }
   ],
   "source": [
    "pd.scatter_matrix(rets_Pack, diagonal='kde', figsize=(6, 6));"
   ]
  },
  {
   "cell_type": "code",
   "execution_count": 32,
   "metadata": {
    "collapsed": false
   },
   "outputs": [
    {
     "data": {
      "text/html": [
       "<div style=\"max-height:1000px;max-width:1500px;overflow:auto;\">\n",
       "<table border=\"1\" class=\"dataframe\">\n",
       "  <thead>\n",
       "    <tr style=\"text-align: right;\">\n",
       "      <th></th>\n",
       "      <th>005930.KS</th>\n",
       "      <th>AAPL</th>\n",
       "      <th>TSM</th>\n",
       "    </tr>\n",
       "  </thead>\n",
       "  <tbody>\n",
       "    <tr>\n",
       "      <th>005930.KS</th>\n",
       "      <td> 1.000000</td>\n",
       "      <td>-0.06274</td>\n",
       "      <td> 0.100585</td>\n",
       "    </tr>\n",
       "    <tr>\n",
       "      <th>AAPL</th>\n",
       "      <td>-0.062740</td>\n",
       "      <td> 1.00000</td>\n",
       "      <td> 0.200200</td>\n",
       "    </tr>\n",
       "    <tr>\n",
       "      <th>TSM</th>\n",
       "      <td> 0.100585</td>\n",
       "      <td> 0.20020</td>\n",
       "      <td> 1.000000</td>\n",
       "    </tr>\n",
       "  </tbody>\n",
       "</table>\n",
       "</div>"
      ],
      "text/plain": [
       "           005930.KS     AAPL       TSM\n",
       "005930.KS   1.000000 -0.06274  0.100585\n",
       "AAPL       -0.062740  1.00000  0.200200\n",
       "TSM         0.100585  0.20020  1.000000"
      ]
     },
     "execution_count": 32,
     "metadata": {},
     "output_type": "execute_result"
    }
   ],
   "source": [
    "corr_Pack = rets_Pack.corr()\n",
    "corr_Pack"
   ]
  },
  {
   "cell_type": "code",
   "execution_count": 33,
   "metadata": {
    "collapsed": false
   },
   "outputs": [
    {
     "data": {
      "image/png": "[encoded data removed]",
      "text/plain": [
       "<matplotlib.figure.Figure at 0x10e3c0610>"
      ]
     },
     "metadata": {},
     "output_type": "display_data"
    }
   ],
   "source": [
    "plt.imshow(corr_Pack, cmap='hot', interpolation='none')\n",
    "plt.colorbar()\n",
    "plt.xticks(range(len(corr_Pack)), corr_Pack.columns)\n",
    "plt.yticks(range(len(corr_Pack)), corr_Pack.columns);"
   ]
  },
  {
   "cell_type": "markdown",
   "metadata": {},
   "source": [
    "One thing we are often interested in is the relationship of expected returns and the risk we are taking one. Often there is a trade-off between the two.\n",
    "\n",
    "Here we use `plt.annotate` to put labels on the scatterplot."
   ]
  },
  {
   "cell_type": "code",
   "execution_count": 34,
   "metadata": {
    "collapsed": false
   },
   "outputs": [
    {
     "data": {
      "image/png": "[encoded data removed]",
      "text/plain": [
       "<matplotlib.figure.Figure at 0x10ca94b50>"
      ]
     },
     "metadata": {},
     "output_type": "display_data"
    }
   ],
   "source": [
    "plt.scatter(rets_Pack.mean(), rets_Pack.std())\n",
    "plt.xlabel('Expected returns')\n",
    "plt.ylabel('Risk')\n",
    "for label, x, y in zip(rets_Pack.columns, rets_Pack.mean(), rets_Pack.std()):\n",
    "    plt.annotate(\n",
    "        label, \n",
    "        xy = (x, y), xytext = (20, -20),\n",
    "        textcoords = 'offset points', ha = 'right', va = 'bottom',\n",
    "        bbox = dict(boxstyle = 'round,pad=0.5', fc = 'yellow', alpha = 0.5),\n",
    "        arrowprops = dict(arrowstyle = '->', connectionstyle = 'arc3,rad=0'))"
   ]
  },
  {
   "cell_type": "markdown",
   "metadata": {},
   "source": [
    "Data alignment and dealing with missing values\n",
    "==============\n",
    "\n",
    "* Join, merge, concatenate\n",
    "* Filling NaNs"
   ]
  },
  {
   "cell_type": "markdown",
   "metadata": {},
   "source": [
    "Lets pull some more securities from Yahoo finance and build a DataFrame of the adjusted closing prices."
   ]
  },
  {
   "cell_type": "code",
   "execution_count": 54,
   "metadata": {
    "collapsed": false
   },
   "outputs": [],
   "source": [
    "series_list = []\n",
    "securities = ['AAPL', 'TSM', '005930.KS']\n",
    "for security in securities:\n",
    "    s = pd.io.data.get_data_yahoo(security, start=datetime.datetime(2014, 6, 1), end=datetime.datetime(2015, 1, 15))['Adj Close']\n",
    "    s.name = security # Rename series to match security name\n",
    "    series_list.append(s)"
   ]
  },
  {
   "cell_type": "markdown",
   "metadata": {},
   "source": [
    "`pd.concat` can be used to concatenate multiple `Series` into one `DataFrame`."
   ]
  },
  {
   "cell_type": "code",
   "execution_count": 55,
   "metadata": {
    "collapsed": false
   },
   "outputs": [
    {
     "data": {
      "text/html": [
       "<div style=\"max-height:1000px;max-width:1500px;overflow:auto;\">\n",
       "<table border=\"1\" class=\"dataframe\">\n",
       "  <thead>\n",
       "    <tr style=\"text-align: right;\">\n",
       "      <th></th>\n",
       "      <th>AAPL</th>\n",
       "      <th>TSM</th>\n",
       "      <th>005930.KS</th>\n",
       "    </tr>\n",
       "    <tr>\n",
       "      <th>Date</th>\n",
       "      <th></th>\n",
       "      <th></th>\n",
       "      <th></th>\n",
       "    </tr>\n",
       "  </thead>\n",
       "  <tbody>\n",
       "    <tr>\n",
       "      <th>2014-06-02</th>\n",
       "      <td> 88.98</td>\n",
       "      <td> 20.21</td>\n",
       "      <td> 1454527.78</td>\n",
       "    </tr>\n",
       "    <tr>\n",
       "      <th>2014-06-03</th>\n",
       "      <td> 90.24</td>\n",
       "      <td> 20.77</td>\n",
       "      <td> 1469522.92</td>\n",
       "    </tr>\n",
       "    <tr>\n",
       "      <th>2014-06-04</th>\n",
       "      <td> 91.27</td>\n",
       "      <td> 20.64</td>\n",
       "      <td> 1469522.92</td>\n",
       "    </tr>\n",
       "    <tr>\n",
       "      <th>2014-06-05</th>\n",
       "      <td> 91.62</td>\n",
       "      <td> 20.73</td>\n",
       "      <td> 1456527.13</td>\n",
       "    </tr>\n",
       "    <tr>\n",
       "      <th>2014-06-06</th>\n",
       "      <td> 91.37</td>\n",
       "      <td> 20.63</td>\n",
       "      <td> 1456527.13</td>\n",
       "    </tr>\n",
       "  </tbody>\n",
       "</table>\n",
       "</div>"
      ],
      "text/plain": [
       "             AAPL    TSM   005930.KS\n",
       "Date                                \n",
       "2014-06-02  88.98  20.21  1454527.78\n",
       "2014-06-03  90.24  20.77  1469522.92\n",
       "2014-06-04  91.27  20.64  1469522.92\n",
       "2014-06-05  91.62  20.73  1456527.13\n",
       "2014-06-06  91.37  20.63  1456527.13"
      ]
     },
     "execution_count": 55,
     "metadata": {},
     "output_type": "execute_result"
    }
   ],
   "source": [
    "df = pd.concat(series_list, axis=1)\n",
    "df.head()"
   ]
  },
  {
   "cell_type": "code",
   "execution_count": 35,
   "metadata": {
    "collapsed": false
   },
   "outputs": [
    {
     "data": {
      "text/html": [
       "<div style=\"max-height:1000px;max-width:1500px;overflow:auto;\">\n",
       "<table border=\"1\" class=\"dataframe\">\n",
       "  <thead>\n",
       "    <tr style=\"text-align: right;\">\n",
       "      <th></th>\n",
       "      <th>AAPL</th>\n",
       "      <th>GOOG</th>\n",
       "      <th>IBM</th>\n",
       "      <th>MSFT</th>\n",
       "    </tr>\n",
       "    <tr>\n",
       "      <th>Date</th>\n",
       "      <th></th>\n",
       "      <th></th>\n",
       "      <th></th>\n",
       "      <th></th>\n",
       "    </tr>\n",
       "  </thead>\n",
       "  <tbody>\n",
       "    <tr>\n",
       "      <th>2011-10-03</th>\n",
       "      <td>    NaN</td>\n",
       "      <td> 495.52</td>\n",
       "      <td> 168.24</td>\n",
       "      <td> 23.32</td>\n",
       "    </tr>\n",
       "    <tr>\n",
       "      <th>2011-10-04</th>\n",
       "      <td> 364.67</td>\n",
       "      <td>    NaN</td>\n",
       "      <td>    NaN</td>\n",
       "      <td>   NaN</td>\n",
       "    </tr>\n",
       "    <tr>\n",
       "      <th>2011-10-05</th>\n",
       "      <td> 370.30</td>\n",
       "      <td> 504.70</td>\n",
       "      <td> 171.69</td>\n",
       "      <td>   NaN</td>\n",
       "    </tr>\n",
       "    <tr>\n",
       "      <th>2011-10-06</th>\n",
       "      <td> 369.44</td>\n",
       "      <td> 514.71</td>\n",
       "      <td> 176.39</td>\n",
       "      <td>   NaN</td>\n",
       "    </tr>\n",
       "    <tr>\n",
       "      <th>2011-10-07</th>\n",
       "      <td> 362.02</td>\n",
       "      <td> 515.12</td>\n",
       "      <td> 177.07</td>\n",
       "      <td> 24.95</td>\n",
       "    </tr>\n",
       "  </tbody>\n",
       "</table>\n",
       "</div>"
      ],
      "text/plain": [
       "              AAPL    GOOG     IBM   MSFT\n",
       "Date                                     \n",
       "2011-10-03     NaN  495.52  168.24  23.32\n",
       "2011-10-04  364.67     NaN     NaN    NaN\n",
       "2011-10-05  370.30  504.70  171.69    NaN\n",
       "2011-10-06  369.44  514.71  176.39    NaN\n",
       "2011-10-07  362.02  515.12  177.07  24.95"
      ]
     },
     "execution_count": 35,
     "metadata": {},
     "output_type": "execute_result"
    }
   ],
   "source": [
    "df.ix[0, 'AAPL'] = np.nan\n",
    "df.ix[1, ['GOOG', 'IBM']] = np.nan\n",
    "df.ix[[1, 2, 3], 'MSFT'] = np.nan\n",
    "\n",
    "df.head()"
   ]
  },
  {
   "cell_type": "markdown",
   "metadata": {},
   "source": [
    "Pandas has great support for computing with missing values."
   ]
  },
  {
   "cell_type": "code",
   "execution_count": 36,
   "metadata": {
    "collapsed": false
   },
   "outputs": [
    {
     "data": {
      "text/plain": [
       "Date\n",
       "2011-10-03       NaN\n",
       "2011-10-04       NaN\n",
       "2011-10-05    875.00\n",
       "2011-10-06    884.15\n",
       "2011-10-07    877.14\n",
       "dtype: float64"
      ]
     },
     "execution_count": 36,
     "metadata": {},
     "output_type": "execute_result"
    }
   ],
   "source": [
    "(df.AAPL + df.GOOG).head()"
   ]
  },
  {
   "cell_type": "markdown",
   "metadata": {},
   "source": [
    "One common approacht to impute missing values in time series is forward filling."
   ]
  },
  {
   "cell_type": "code",
   "execution_count": 37,
   "metadata": {
    "collapsed": false
   },
   "outputs": [
    {
     "data": {
      "text/html": [
       "<div style=\"max-height:1000px;max-width:1500px;overflow:auto;\">\n",
       "<table border=\"1\" class=\"dataframe\">\n",
       "  <thead>\n",
       "    <tr style=\"text-align: right;\">\n",
       "      <th></th>\n",
       "      <th>AAPL</th>\n",
       "      <th>GOOG</th>\n",
       "      <th>IBM</th>\n",
       "      <th>MSFT</th>\n",
       "    </tr>\n",
       "    <tr>\n",
       "      <th>Date</th>\n",
       "      <th></th>\n",
       "      <th></th>\n",
       "      <th></th>\n",
       "      <th></th>\n",
       "    </tr>\n",
       "  </thead>\n",
       "  <tbody>\n",
       "    <tr>\n",
       "      <th>2011-10-03</th>\n",
       "      <td>    NaN</td>\n",
       "      <td> 495.52</td>\n",
       "      <td> 168.24</td>\n",
       "      <td> 23.32</td>\n",
       "    </tr>\n",
       "    <tr>\n",
       "      <th>2011-10-04</th>\n",
       "      <td> 364.67</td>\n",
       "      <td> 495.52</td>\n",
       "      <td> 168.24</td>\n",
       "      <td> 23.32</td>\n",
       "    </tr>\n",
       "    <tr>\n",
       "      <th>2011-10-05</th>\n",
       "      <td> 370.30</td>\n",
       "      <td> 504.70</td>\n",
       "      <td> 171.69</td>\n",
       "      <td> 23.32</td>\n",
       "    </tr>\n",
       "    <tr>\n",
       "      <th>2011-10-06</th>\n",
       "      <td> 369.44</td>\n",
       "      <td> 514.71</td>\n",
       "      <td> 176.39</td>\n",
       "      <td> 23.32</td>\n",
       "    </tr>\n",
       "    <tr>\n",
       "      <th>2011-10-07</th>\n",
       "      <td> 362.02</td>\n",
       "      <td> 515.12</td>\n",
       "      <td> 177.07</td>\n",
       "      <td> 24.95</td>\n",
       "    </tr>\n",
       "  </tbody>\n",
       "</table>\n",
       "</div>"
      ],
      "text/plain": [
       "              AAPL    GOOG     IBM   MSFT\n",
       "Date                                     \n",
       "2011-10-03     NaN  495.52  168.24  23.32\n",
       "2011-10-04  364.67  495.52  168.24  23.32\n",
       "2011-10-05  370.30  504.70  171.69  23.32\n",
       "2011-10-06  369.44  514.71  176.39  23.32\n",
       "2011-10-07  362.02  515.12  177.07  24.95"
      ]
     },
     "execution_count": 37,
     "metadata": {},
     "output_type": "execute_result"
    }
   ],
   "source": [
    "df.ffill().head()"
   ]
  },
  {
   "cell_type": "code",
   "execution_count": 1,
   "metadata": {
    "collapsed": false
   },
   "outputs": [
    {
     "name": "stdout",
     "output_type": "stream",
     "text": [
      "[NbConvertApp] Converting notebook stock.ipynb to html\n",
      "[NbConvertApp] Writing 658532 bytes to stock.html\n"
     ]
    }
   ],
   "source": [
    "!jupyter nbconvert --to html stock.ipynb"
   ]
  },
  {
   "cell_type": "code",
   "execution_count": null,
   "metadata": {
    "collapsed": true
   },
   "outputs": [],
   "source": []
  }
 ],
 "metadata": {
  "kernelspec": {
   "display_name": "Python 3",
   "language": "python",
   "name": "python3"
  },
  "language_info": {
   "codemirror_mode": {
    "name": "ipython",
    "version": 3
   },
   "file_extension": ".py",
   "mimetype": "text/x-python",
   "name": "python",
   "nbconvert_exporter": "python",
   "pygments_lexer": "ipython3",
   "version": "3.5.1"
  },
  "widgets": {
   "state": {},
   "version": "2.0.0-dev"
  }
 },
 "nbformat": 4,
 "nbformat_minor": 1
}
