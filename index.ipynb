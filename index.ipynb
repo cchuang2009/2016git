{
 "cells": [
  {
   "cell_type": "markdown",
   "metadata": {},
   "source": [
    "Python 練功房\n",
    "===\n",
    "Python 最簡單也最值得品味的電腦語言, Jupyter/notebook 讓使用網頁即可 Python 程式語言, 並且隨時隨地練功.\n",
    "\n",
    "這裡提供 Python 練功密笈, 包山包海, 可以依照需要, 自選所需要的部分練功. 除了各種獨立的完整的單元之外, 同時提供在隨身碟完整的 包含執行所有完整的單元 Jupyter/notebook 系統平台, 即插即用, (目前只提供 Mac OS 系統使用)."
   ]
  },
  {
   "cell_type": "markdown",
   "metadata": {},
   "source": [
    "Prelude\n",
    "---\n",
    "**金庸**, 碧血劍\n",
    "```\n",
    "...\n",
    "    一晃三年，袁承志已十三歲了。這三年之中，穆人清又傳了他「破玉拳」和「混元掌」。「混元掌」雖是掌法，卻是修習內功之用。自來各家各派修練內功，都講究呼吸吐納，打坐練氣，華山派的內功卻別具蹊徑，自外而內，於掌法中修習內勁。這門功夫雖然費時甚久，見效極慢，但修習時既無走火入魔之虞，練成後又是威力奇大。蓋內外齊修，臨敵時一招一式之中，皆自然而有內勁相附，能於不著意間制勝克敵。待得「混元功」大成，那更是無往不利、無堅不摧了。\n",
    "...\n",
    "```\n",
    "\n",
    "Concrete Python skills have to be learnt like 內功, but it would spend a long time to do.\n",
    "\n",
    "Learning Python by problem discussion, just like we will use, like 外功, should be make whole python learning more efficient and bring more fun. "
   ]
  },
  {
   "cell_type": "markdown",
   "metadata": {},
   "source": [
    "## [章節]\n",
    "1. [Python, Jupyter notebook 入門式](basic/introduction.ipynb) Python 語法, 圖形工具 (靜態圖形和動畫), 以及互動式使用介面.\n",
    "2. [二維平面圖形](2dplot/2dplot.ipynb) 二維圖形函式庫, (matplotlib, bokek 等等); 八零年代電腦革命: IBM  Watson 實驗室的碎形幾何重現, 外星人眼中的太陽系; \n",
    "3. [三維立體圖形](3dplot/spaghetti.ipynb) 三維圖形函式庫, mpl_tools; 為什麼義大利麵條很難對折?\n",
    "- [NumPy: 科學計算的基礎功](numpy/Sinusoid.ipynb) 聲音, 電腦音樂, 樂器演奏, 調頻及調幅音質, 天籟之音, 藍鯨之歌;\n",
    "- [微分方程式](DifferentialEquations/DE.ipynb) 比起其他電腦語言, Python 的強項; 怎樣解微分方程式, (Sympy), 小狗追主人, 貓群玩尾巴, 怎樣可以登陸月球, 微分方程組的速度場以及穩定性;\n",
    "- [IPywidgets](ipywidgets/embeded_ipywidgets.ipynb) 和程式互動以及如何轉換成 HTML 網頁;\n",
    "- [JSAnimation](JSAnimation/phugoit.ipynb) 紙飛機動畫;\n",
    "- [地理資料](folium/NTU-2016.ipynb) <code style=\"background-color:lightyellow\">qgrid</code> displays 資料圖解, <code style=\"background-color:lightyellow\">gmap</code>/<code style=\"background-color:lightyellow\">folium</code> 產生 Google 地圖網頁.\n",
    "- [棒球大聯盟](MarkovChain/MarkovChain.ipynb) 棒球大聯盟的策略, Monte-Carlo 模擬的動畫;\n",
    "- [VPython](vpython/ivisual-2.ipynb) 利用 WebGL Python/Javascript 實作的古典力學動畫函式庫, 印度魔術飛天繩和倒置單擺的關係. \n",
    "- [Pandas: 大數據的時代](pandas/stock.ipynb) 現代三國誌, 蘋果, 台積電, 韓國三星的合作及競爭.\n",
    "- [CDMA](CDMA/CDMA-demo.ipynb) 漂亮的女演員, Hedy Lamarr, 利用彈鋼琴的原理, 發明今日重要的 WIFI 無線傳輸技術.\n",
    "- [Fourier Series](Fourier/Fourier.ipynb) \"看\" 聲音 分解圖形, Fourier Series 妙用無窮.\n",
    "- [Brexit](PyMC3/brexit.ipynb) 脫英投票心理學."
   ]
  },
  {
   "cell_type": "code",
   "execution_count": null,
   "metadata": {
    "collapsed": false
   },
   "outputs": [],
   "source": []
  },
  {
   "cell_type": "markdown",
   "metadata": {},
   "source": [
    "<a href=\"demo.html\">DEMO</a>\n",
    "---"
   ]
  },
  {
   "cell_type": "markdown",
   "metadata": {},
   "source": [
    "# Jupyter/Notebook on Portable Device For Mac \n",
    "## Now Windows also available"
   ]
  },
  {
   "cell_type": "markdown",
   "metadata": {},
   "source": [
    "## [Index]\n",
    "1. [Basic of Python with Jupyter notebook](basic/introduction.ipynb) short cut of Python, syntax, visualization (static/animation), and others for UI.\n",
    "- [2D Pictures](2dplot/2dplot.ipynb) tools of 2D visualization, matplotlib, bokek; Bification graph, What awesome view in Solor system in Alien eys's includes; \n",
    "- [3D Pictures](3dplot/spaghetti.ipynb) mpl_tools for 3D pictures, Why spaghtti does not break in half;\n",
    "- [numpy](numpy/Sinusoid.ipynb) Sound, Digital Music, Instrument playing, FM and AM boardcast, Song of blue whale;\n",
    "- [Differential Equations](DifferentialEquations/DE.ipynb) Nothing thing more than this, Python is better than other program languages; Solve ODE in symbolic, dog tracing his master, four cat's playing around, Moon landing possible, the vector fields and stability of ODS's, etc;\n",
    "- [IPywidgets](ipywidgets/embeded_ipywidgets.ipynb) Interactivity with notebook and create static html file; [More example](ipywidgets/ipywidgets.ipynb)\n",
    "- [JSAnimation](JSAnimation/phugoit.ipynb) Paper plane Movie;\n",
    "- [GeoData](folium/NTU-2016.ipynb) <code style=\"background-color:lightyellow\">qgrid</code> displays CSV data, <code style=\"background-color:lightyellow\">gmap</code>/<code style=\"background-color:lightyellow\">folium</code> create Google Map.\n",
    "- [MLB](MarkovChain/MarkovChain.ipynb) Playbook of baseball game, Monte-Carlo Simulation and Animation;\n",
    "- [VPython](vpython/ivisual-2.ipynb) WebGL Python/Javascript implement for classical mechanics, Indian magic with Inverted Pendulum. \n",
    "- [Pandas: Big Data](pandas/stock.ipynb) Morden Three countries' tale: story about App Inc.,TMSC, Samsung.\n",
    "- [CDMA](CDMA/CDMA-demo.ipynb) CDMA, a spread spectrum multiple access technique widely used in mordern wireless communication, was invented by the beautiful actress,  Hedy Lamarr, by the principle of piano playing.\n",
    "- [Fourier Series](Fourier/Fourier.ipynb) Watch Sound and Image by Fourier Series.\n",
    "- [ Brexit](PyMC3/brexit.ipynb) Vote, Vote, Vote for one's Mind. "
   ]
  },
  {
   "cell_type": "markdown",
   "metadata": {},
   "source": [
    "This portable Anaconda Jupyter system has been optimized to the run almost the Python packagess (listed as follows) on Mac without any additional configuration. Besides, users can install/upgrade Python libraries if necessary. Enjoy it right away without hesitate.\n",
    "\n",
    "\n",
    "\n",
    "[Installed libraries/Packages/Extensions]\n",
    "---\n",
    "\n",
    "We try to install the last packages and modules to squeeze the sweetest juice of Python/IPython; However it comes with some drawbacks of system in-compability, for instance, qqrid malfunctioned due to the last re-designed ipywidgets. "
   ]
  },
  {
   "cell_type": "code",
   "execution_count": 3,
   "metadata": {
    "collapsed": false
   },
   "outputs": [
    {
     "name": "stdout",
     "output_type": "stream",
     "text": [
      "The version_information extension is already loaded. To reload it, use:\n",
      "  %reload_ext version_information\n"
     ]
    },
    {
     "data": {
      "application/json": {
       "Software versions": [
        {
         "module": "Python",
         "version": "3.5.1 64bit [GCC 4.2.1 (Apple Inc. build 5577)]"
        },
        {
         "module": "IPython",
         "version": "5.0.0"
        },
        {
         "module": "OS",
         "version": "Darwin 15.5.0 x86_64 i386 64bit"
        },
        {
         "module": "bokeh",
         "version": "0.12.0"
        },
        {
         "module": "bqplot",
         "version": "0.6.1"
        },
        {
         "module": "folium",
         "version": "0.2.1"
        },
        {
         "module": "gmplot",
         "version": "1.1.0"
        },
        {
         "module": "ipywidgets",
         "version": "6.0.0.dev"
        },
        {
         "module": "jupyter",
         "version": "1.0.0"
        },
        {
         "module": "matplotlib",
         "version": "1.5.1"
        },
        {
         "module": "mpld3",
         "version": "0.3git"
        },
        {
         "module": "nbconvert",
         "version": "4.2.0"
        },
        {
         "module": "nbgrader",
         "version": "0.3.0"
        },
        {
         "module": "widgetsnbextension",
         "version": "2.0.0.dev"
        },
        {
         "module": "networkx",
         "version": "1.11"
        },
        {
         "module": "notebook",
         "version": "5.0.0.dev"
        },
        {
         "module": "numpy",
         "version": "1.11.1"
        },
        {
         "module": "pandas",
         "version": "0.18.1"
        },
        {
         "module": "pymc",
         "version": "2.3.6"
        },
        {
         "module": "pymc3",
         "version": "3.0"
        },
        {
         "module": "pythreejs",
         "version": "0.2.0"
        },
        {
         "module": "qgrid",
         "version": "The 'widgetsnbextension>=1.1.0' distribution was not found and is required by ipywidgets"
        },
        {
         "module": "scipy",
         "version": "0.17.0"
        },
        {
         "module": "seaborn",
         "version": "0.7.0"
        },
        {
         "module": "sklearn",
         "version": "0.17.1"
        },
        {
         "module": "skimage",
         "version": "0.12.3"
        },
        {
         "module": "statsmodels",
         "version": "0.6.1"
        },
        {
         "module": "sympy",
         "version": "1.0"
        },
        {
         "module": "vpython",
         "version": "0.3.11"
        }
       ]
      },
      "text/html": [
       "<table><tr><th>Software</th><th>Version</th></tr><tr><td>Python</td><td>3.5.1 64bit [GCC 4.2.1 (Apple Inc. build 5577)]</td></tr><tr><td>IPython</td><td>5.0.0</td></tr><tr><td>OS</td><td>Darwin 15.5.0 x86_64 i386 64bit</td></tr><tr><td>bokeh</td><td>0.12.0</td></tr><tr><td>bqplot</td><td>0.6.1</td></tr><tr><td>folium</td><td>0.2.1</td></tr><tr><td>gmplot</td><td>1.1.0</td></tr><tr><td>ipywidgets</td><td>6.0.0.dev</td></tr><tr><td>jupyter</td><td>1.0.0</td></tr><tr><td>matplotlib</td><td>1.5.1</td></tr><tr><td>mpld3</td><td>0.3git</td></tr><tr><td>nbconvert</td><td>4.2.0</td></tr><tr><td>nbgrader</td><td>0.3.0</td></tr><tr><td>widgetsnbextension</td><td>2.0.0.dev</td></tr><tr><td>networkx</td><td>1.11</td></tr><tr><td>notebook</td><td>5.0.0.dev</td></tr><tr><td>numpy</td><td>1.11.1</td></tr><tr><td>pandas</td><td>0.18.1</td></tr><tr><td>pymc</td><td>2.3.6</td></tr><tr><td>pymc3</td><td>3.0</td></tr><tr><td>pythreejs</td><td>0.2.0</td></tr><tr><td>qgrid</td><td>The 'widgetsnbextension&gt;=1.1.0' distribution was not found and is required by ipywidgets</td></tr><tr><td>scipy</td><td>0.17.0</td></tr><tr><td>seaborn</td><td>0.7.0</td></tr><tr><td>sklearn</td><td>0.17.1</td></tr><tr><td>skimage</td><td>0.12.3</td></tr><tr><td>statsmodels</td><td>0.6.1</td></tr><tr><td>sympy</td><td>1.0</td></tr><tr><td>vpython</td><td>0.3.11</td></tr><tr><td colspan='2'>Fri Jul 08 22:08:09 2016 CST</td></tr></table>"
      ],
      "text/latex": [
       "\\begin{tabular}{|l|l|}\\hline\n",
       "{\\bf Software} & {\\bf Version} \\\\ \\hline\\hline\n",
       "Python & 3.5.1 64bit [GCC 4.2.1 (Apple Inc. build 5577)] \\\\ \\hline\n",
       "IPython & 5.0.0 \\\\ \\hline\n",
       "OS & Darwin 15.5.0 x86\\_64 i386 64bit \\\\ \\hline\n",
       "bokeh & 0.12.0 \\\\ \\hline\n",
       "bqplot & 0.6.1 \\\\ \\hline\n",
       "folium & 0.2.1 \\\\ \\hline\n",
       "gmplot & 1.1.0 \\\\ \\hline\n",
       "ipywidgets & 6.0.0.dev \\\\ \\hline\n",
       "jupyter & 1.0.0 \\\\ \\hline\n",
       "matplotlib & 1.5.1 \\\\ \\hline\n",
       "mpld3 & 0.3git \\\\ \\hline\n",
       "nbconvert & 4.2.0 \\\\ \\hline\n",
       "nbgrader & 0.3.0 \\\\ \\hline\n",
       "widgetsnbextension & 2.0.0.dev \\\\ \\hline\n",
       "networkx & 1.11 \\\\ \\hline\n",
       "notebook & 5.0.0.dev \\\\ \\hline\n",
       "numpy & 1.11.1 \\\\ \\hline\n",
       "pandas & 0.18.1 \\\\ \\hline\n",
       "pymc & 2.3.6 \\\\ \\hline\n",
       "pymc3 & 3.0 \\\\ \\hline\n",
       "pythreejs & 0.2.0 \\\\ \\hline\n",
       "qgrid & The 'widgetsnbextension\\textgreater=1.1.0' distribution was not found and is required by ipywidgets \\\\ \\hline\n",
       "scipy & 0.17.0 \\\\ \\hline\n",
       "seaborn & 0.7.0 \\\\ \\hline\n",
       "sklearn & 0.17.1 \\\\ \\hline\n",
       "skimage & 0.12.3 \\\\ \\hline\n",
       "statsmodels & 0.6.1 \\\\ \\hline\n",
       "sympy & 1.0 \\\\ \\hline\n",
       "vpython & 0.3.11 \\\\ \\hline\n",
       "\\hline \\multicolumn{2}{|l|}{Fri Jul 08 22:08:09 2016 CST} \\\\ \\hline\n",
       "\\end{tabular}\n"
      ],
      "text/plain": [
       "Software versions\n",
       "Python 3.5.1 64bit [GCC 4.2.1 (Apple Inc. build 5577)]\n",
       "IPython 5.0.0\n",
       "OS Darwin 15.5.0 x86_64 i386 64bit\n",
       "bokeh 0.12.0\n",
       "bqplot 0.6.1\n",
       "folium 0.2.1\n",
       "gmplot 1.1.0\n",
       "ipywidgets 6.0.0.dev\n",
       "jupyter 1.0.0\n",
       "matplotlib 1.5.1\n",
       "mpld3 0.3git\n",
       "nbconvert 4.2.0\n",
       "nbgrader 0.3.0\n",
       "widgetsnbextension 2.0.0.dev\n",
       "networkx 1.11\n",
       "notebook 5.0.0.dev\n",
       "numpy 1.11.1\n",
       "pandas 0.18.1\n",
       "pymc 2.3.6\n",
       "pymc3 3.0\n",
       "pythreejs 0.2.0\n",
       "qgrid The 'widgetsnbextension>=1.1.0' distribution was not found and is required by ipywidgets\n",
       "scipy 0.17.0\n",
       "seaborn 0.7.0\n",
       "sklearn 0.17.1\n",
       "skimage 0.12.3\n",
       "statsmodels 0.6.1\n",
       "sympy 1.0\n",
       "vpython 0.3.11\n",
       "Fri Jul 08 22:08:09 2016 CST"
      ]
     },
     "execution_count": 3,
     "metadata": {},
     "output_type": "execute_result"
    }
   ],
   "source": [
    "#%install_ext http://raw.github.com/jrjohansson/version_information/master/version_information.py\n",
    "%load_ext version_information\n",
    "#%reload_ext version_information\n",
    "\n",
    "%version_information bokeh, bqplot, folium, gmplot, ipywidgets, jupyter, matplotlib, mpld3, nbconvert, nbgrader, \\\n",
    "           widgetsnbextension ,networkx, notebook, numpy, pandas, pymc, pymc3, pythreejs, \\\n",
    "           qgrid, scipy, seaborn, sklearn, skimage, statsmodels, sympy, vpython \\\n",
    "                     "
   ]
  },
  {
   "cell_type": "code",
   "execution_count": 1,
   "metadata": {
    "collapsed": false
   },
   "outputs": [
    {
     "name": "stdout",
     "output_type": "stream",
     "text": [
      "{'load_extensions': {'create_assignment/main': True, 'jupyter-sankey-widget/extension': True, 'jupyter-threejs/extension': True, 'qgridjs/qgrid.widget': True, 'bqplot/extension': True, 'jupyter-js-widgets/extension': True, 'declarativewidgets/js/main': True, 'jupyter-leaflet/extension': True, 'livereveal/main': True}}\n"
     ]
    },
    {
     "data": {
      "text/html": [
       "\n",
       "<table border=\"1\">\n",
       "  <tr>\n",
       "    <th>Extension name</th>\n",
       "  </tr>\n",
       "<tr><td>create_assignment/main</td>\n",
       "<tr><td>jupyter-sankey-widget/extension</td>\n",
       "<tr><td>jupyter-threejs/extension</td>\n",
       "<tr><td>qgridjs/qgrid.widget</td>\n",
       "<tr><td>bqplot/extension</td>\n",
       "<tr><td>jupyter-js-widgets/extension</td>\n",
       "<tr><td>declarativewidgets/js/main</td>\n",
       "<tr><td>jupyter-leaflet/extension</td>\n",
       "<tr><td>livereveal/main</td>\n",
       "\n",
       "</table>\n"
      ],
      "text/plain": [
       "<IPython.core.display.HTML object>"
      ]
     },
     "execution_count": 1,
     "metadata": {},
     "output_type": "execute_result"
    }
   ],
   "source": [
    "from notebook.services.config import ConfigManager\n",
    "from IPython.display import HTML\n",
    "ip = get_ipython()\n",
    "cm = ConfigManager(parent=ip, profile_dir=ip.profile_dir.location)\n",
    "extensions =cm.get(\"notebook\")\n",
    "print(extensions)\n",
    "table = \"\"\n",
    "for ext in extensions['load_extensions']:\n",
    "    table += \"<tr><td>%s</td>\\n\" % (ext)\n",
    "\n",
    "top = \"\"\"\n",
    "<table border=\"1\">\n",
    "  <tr>\n",
    "    <th>Extension name</th>\n",
    "  </tr>\n",
    "\"\"\"\n",
    "bottom = \"\"\"\n",
    "</table>\n",
    "\"\"\"\n",
    "HTML(top + table + bottom)"
   ]
  },
  {
   "cell_type": "markdown",
   "metadata": {},
   "source": [
    "Platform and resources Usages\n",
    "---\n",
    "1. <code style=\"background-color:#bbbbbb\">Have install IPython/Notebook:</code>\n",
    "   replicate a copy of resources, <font color=\"blue\">2016python</font>, into some where on your box; open the page, \n",
    "    <font color=\"green\">index.ipynb</font>, ( what you see now), and follow the link to play.\n",
    "    \n",
    "    [已經裝好 IPython/Notebook 者]: 將 <font color=\"blue\">2016python</font> 複製到你的機器, 那麼打開目錄下面的首頁 <font color=\"green\">index.ipynb</font>. \n",
    "\n",
    "2. <code style=\"background-color:lightblue\"><font color=\"blue\">USB stick Users</font></code>:\n",
    "   plug it into your Mac box (or Windows box], execute  <font color=\"blue\">startup.sh (or portable.bat)</font> in the top directory of USB stick. After      that, system should open main folder by safari and go into the <font color=\"blue\">2016python</font> folder, and   open the page, <font color=\"green\">index.ipynb</font>, ( what you see now), and follow the link to play.\n",
    "  \n",
    "  [隨身碟使用者]: 將隨身碟插入機器, 然後執行啟動程式,  <font color=\"blue\">startup.sh (Mac 版本)</font> 或者  <font color=\"blue\">portable.bat ( Windows 版本)</font>, 然後 IPython/Notebook  就會啟動瀏覽器, 進入 <font color=\"blue\">2016python</font> 目錄, 並打開首頁 <font color=\"green\">index.ipynb</font> 即可開始操作."
   ]
  },
  {
   "cell_type": "markdown",
   "metadata": {},
   "source": [
    "How to run Python in IPython/Notebook\n",
    "---\n",
    "1. As well-known, Python is scripting language. IPython notebook uses browser as the `graphical user interface`.\n",
    "2. Within Notebook, Python code can be run in each numbered cell and get its reult or error respose. Just try it or open one of demos in the `index.ipynb`;  \n",
    "3. If you have time, take a voyage from <code style=\"background-color:lightblue\">Top main menu</code>:\n",
    "   ```\n",
    "   [Help] -> [User Interface Tour]\n",
    "   ```\n",
    "Summary, IPython Notebook is a new user interface worth to taste it if you follow the whole tour we gave. Don't hesitate.  \n",
    "\n",
    "**a).** IPython/notebook 使用瀏覽器作為 Python 圖形化介面;<br>\n",
    "**b).** 如前面所述, IPython/notebook 工作檔案, 副檔名為 ipynb, 每一個工作區域, 依照工作順序將 [Python code cell] 編號, 用組合鍵 [shift+Enter] 執行後, 會在下面產生計算結果或錯誤信息.<br>\n",
    "**c).** 可以從 <code style=\"background-color:lightblue\">主目錄</code> 學習使用 Notebook 和 Python:\n",
    "```\n",
    "   [Help] -> [User Interface Tour]\n",
    "   ```"
   ]
  },
  {
   "cell_type": "markdown",
   "metadata": {},
   "source": [
    "Importance concern about Jupyter playform\n",
    "---"
   ]
  },
  {
   "cell_type": "code",
   "execution_count": 4,
   "metadata": {
    "collapsed": false
   },
   "outputs": [
    {
     "name": "stdout",
     "output_type": "stream",
     "text": [
      "config:\r\n",
      "    /Users/cch/.jupyter\r\n",
      "    /Users/cch/anaconda/etc/jupyter\r\n",
      "    /usr/local/etc/jupyter\r\n",
      "    /etc/jupyter\r\n",
      "data:\r\n",
      "    /Users/cch/Library/Jupyter\r\n",
      "    /Users/cch/anaconda/share/jupyter\r\n",
      "    /usr/local/share/jupyter\r\n",
      "    /usr/share/jupyter\r\n",
      "runtime:\r\n",
      "    /Users/cch/Library/Jupyter/runtime\r\n"
     ]
    }
   ],
   "source": [
    "# System Path\n",
    "!jupyter --path"
   ]
  },
  {
   "cell_type": "markdown",
   "metadata": {},
   "source": [
    "IPython Kernels Installed\n",
    "---\n",
    "Statistical Software, R, is also pre-installed in USB stick:"
   ]
  },
  {
   "cell_type": "code",
   "execution_count": 1,
   "metadata": {
    "collapsed": false
   },
   "outputs": [
    {
     "name": "stdout",
     "output_type": "stream",
     "text": [
      "Available kernels:\r\n",
      "  python3    /Users/cch/anaconda/lib/python3.5/site-packages/ipykernel/resources\r\n",
      "  ir         /Users/cch/anaconda/share/jupyter/kernels/ir\r\n",
      "  vpython    /Users/cch/anaconda/share/jupyter/kernels/vpython\r\n"
     ]
    }
   ],
   "source": [
    "# where Jupyter extensions installed\n",
    "!jupyter kernelspec list"
   ]
  },
  {
   "cell_type": "code",
   "execution_count": 2,
   "metadata": {
    "collapsed": false
   },
   "outputs": [
    {
     "name": "stdout",
     "output_type": "stream",
     "text": [
      "Known nbextensions:\r\n",
      "  config dir: /Users/cch/.jupyter/nbconfig\r\n",
      "    notebook section\r\n",
      "      jupyter-threejs/extension \u001b[32m enabled \u001b[0m\r\n",
      "      - Validating: \u001b[32mOK\u001b[0m\r\n",
      "      declarativewidgets/js/main \u001b[32m enabled \u001b[0m\r\n",
      "      - Validating: \u001b[32mOK\u001b[0m\r\n",
      "      jupyter-js-widgets/extension \u001b[32m enabled \u001b[0m\r\n",
      "      - Validating: \u001b[32mOK\u001b[0m\r\n",
      "  config dir: /Users/cch/anaconda/etc/jupyter/nbconfig\r\n",
      "    notebook section\r\n",
      "      qgridjs/qgrid.widget \u001b[32m enabled \u001b[0m\r\n",
      "      - Validating: \u001b[32mOK\u001b[0m\r\n",
      "      jupyter-sankey-widget/extension \u001b[32m enabled \u001b[0m\r\n",
      "      - Validating: \u001b[32mOK\u001b[0m\r\n",
      "      jupyter-threejs/extension \u001b[32m enabled \u001b[0m\r\n",
      "      - Validating: \u001b[32mOK\u001b[0m\r\n",
      "      livereveal/main \u001b[32m enabled \u001b[0m\r\n",
      "      - Validating: \u001b[32mOK\u001b[0m\r\n",
      "      create_assignment/main \u001b[32m enabled \u001b[0m\r\n",
      "      - Validating: \u001b[32mOK\u001b[0m\r\n",
      "      bqplot/extension \u001b[32m enabled \u001b[0m\r\n",
      "      - Validating: \u001b[32mOK\u001b[0m\r\n",
      "      jupyter-leaflet/extension \u001b[32m enabled \u001b[0m\r\n",
      "      - Validating: \u001b[32mOK\u001b[0m\r\n",
      "      jupyter-js-widgets/extension \u001b[32m enabled \u001b[0m\r\n",
      "      - Validating: \u001b[32mOK\u001b[0m\r\n",
      "      declarativewidgets/js/main \u001b[32m enabled \u001b[0m\r\n",
      "      - Validating: \u001b[32mOK\u001b[0m\r\n",
      "    tree section\r\n",
      "      assignment_list/main \u001b[32m enabled \u001b[0m\r\n",
      "      - Validating: \u001b[32mOK\u001b[0m\r\n"
     ]
    }
   ],
   "source": [
    "# where notebook extensions installed\n",
    "!jupyter nbextension list"
   ]
  },
  {
   "cell_type": "markdown",
   "metadata": {},
   "source": [
    "Package Install/Upgrade\n",
    "---\n",
    "Incorporated with anaconda, there are two way to upgrade or install package in this portable python platform:\n",
    "- pip: if want to check package ever installed by the option,  <font color=\"red\">(--upgrade)</font>,\n",
    " \n",
    "   pip install <font color=\"red\">(--upgrade)</font> package\n",
    "   \n",
    "  If necessary, more options are also availed for insatlling experimental source; e.g. the PyMC3 could be installed as follows:   \n",
    "```\n",
    "pip install git+https://github.com/pymc-devs/pymc3\n",
    "```\n",
    "which would clone the source of PyMC3 (by git), compile the source, and install the source. \n",
    "- conda:\n",
    "   \n",
    "   conda install package"
   ]
  },
  {
   "cell_type": "markdown",
   "metadata": {},
   "source": [
    "Python 函式庫 安裝/升級\n",
    "---\n",
    "來自 anaconda 的好處, 這個系統可以使用兩種方法安裝 Python 函式庫:\n",
    "Incorporated with anaconda, there are two way to upgrade or install package in this portable python platform:\n",
    "- pip: 標準 Python 函式庫安裝法, 如有需要使用  <font color=\"red\">(--upgrade)</font> 選項,\n",
    " \n",
    "   pip install <font color=\"red\">(--upgrade)</font> package\n",
    "   \n",
    "  也可以結合 git 安裝實驗性的函式庫, 例如利用下面方式安裝 PyMC3:   \n",
    "```\n",
    "pip install git+https://github.com/pymc-devs/pymc3\n",
    "```\n",
    "這將會使用 git 下載 PyMC3 , 編譯及安裝. \n",
    "- conda: \n",
    "   \n",
    "   conda install package"
   ]
  },
  {
   "cell_type": "markdown",
   "metadata": {},
   "source": [
    "Install Package from source\n",
    "---\n",
    "Of course, install from source requires a compiler (maybe fortran compiler also required). In Mac, Xcode is requires and has better to install its development by:\n",
    "\n",
    " xcode-select --install\n",
    " \n",
    "and install GNU gfortran. For Windows users, install GNU C/C++ and gfortran compilers.\n",
    "\n",
    "To install package\n",
    "\n",
    "- download source and enter its source main directory;\n",
    "- formally, use the standard python way to install:\n",
    "```\n",
    "python setup.py build\n",
    "python setup.py install\n",
    "```\n",
    "- the pre-installed Python and its packages are based on Python ```3.5```; if necesssary, use <font color=\"brown\">2to3</font> to cconvert Python-2 packages to ```version3``` and install as above."
   ]
  },
  {
   "cell_type": "markdown",
   "metadata": {},
   "source": [
    "安裝 Python 程式碼\n",
    "---\n",
    "Mac 使用者, 必須先安裝 Xcode 和他的相關軟體:\n",
    "```\n",
    " xcode-select --install\n",
    "``` \n",
    "同時也需要 GNU gfortran. Windows 使用者, 安裝 GNU C/C++ 和 gfortran.\n",
    "\n",
    "安裝步驟\n",
    "---\n",
    "\n",
    "- 下載 source 並且進入主目錄;\n",
    "- 使用標準步驟安裝:\n",
    "```\n",
    "python setup.py build\n",
    "python setup.py install\n",
    "```\n",
    "- 我們的系統使用 Python ```3.5```; 如果有需要, 先行使用 <font color=\"brown\">2to3</font> 轉換 Python-2 函式庫為 ```version3``` 然後如上面的安裝方式."
   ]
  },
  {
   "cell_type": "code",
   "execution_count": null,
   "metadata": {
    "collapsed": true
   },
   "outputs": [],
   "source": []
  },
  {
   "cell_type": "markdown",
   "metadata": {},
   "source": [
    "nbextensions Install\n",
    "---\n",
    "The enclusive feature of Jupyter/notebook, benefit from the handy functionality of web browsers, makes it more friendly in user interface. \n",
    "\n",
    "來自瀏覽器的便利性以及功能, Jupyter/notebook 提供的更方便的工作環境, 特別是使用界面.\n",
    "\n",
    "To install notebook extensions requires additional procedures which might be a little different from each other.\n",
    "Generally, use the following to install nbextensions after package build/installation:\n",
    "\n",
    "安裝不同函式庫 notebook extensions 可能稍微有點不一樣, 大致上, 在安裝完函式庫之後, 使用下列安裝:\n",
    "```\n",
    "jupyter nbextension enable --py --user package_name\n",
    "```\n",
    "\n",
    "- nbgrade (0.3) case: \n",
    "```\n",
    "nbgrader extension install\n",
    "nbgrader extension activate\n",
    "```\n",
    "Two nbextensions, [assignment_list, create_assignment], should be installed in <font color=\"blue\">jupyter/nbextensions</font>. \n",
    "\n",
    "安裝兩個 nbextensions, [assignment_list, create_assignment] 在 <font color=\"blue\">jupyter/nbextensions</font>. .\n"
   ]
  },
  {
   "cell_type": "markdown",
   "metadata": {},
   "source": [
    "R Kernels installation\n",
    "---\n",
    "The famous statistical software, <font color=\"brown\">R</font>, works well with Jupyter notebook now and can run as one of kernels of Jupyter notebook. Install <font color=\"brown\">R</font>  and its esstials as follows:\n",
    "\n",
    "```\n",
    "conda install -c r r-essentials\n",
    "```\n",
    "which should install the minimal R environment but come with all benefits of notebook. The webGL-implement **VPython** also come with kernel within notebook kernel menu.\n",
    "\n",
    "隨身碟版本, 包含 Python 和 R (以及 VPython) Kernel. "
   ]
  },
  {
   "cell_type": "markdown",
   "metadata": {},
   "source": [
    "Tree Structure\n",
    "---\n",
    "Thought Python itself is compact, potential has no limit. Thus the well-integrated platform forms by more than 100,000 files. To make Python environment portable on USB stick, we had relocate the setting and configuration files to USB stick.\n",
    "Details of structure Tree of important files within platform is listed as follows, <font color=\"red\">subfolder in blue color and opened by clicking on</font>:\n",
    "\n",
    "隨身碟版本的目錄結構如下:"
   ]
  },
  {
   "cell_type": "code",
   "execution_count": 2,
   "metadata": {
    "collapsed": false
   },
   "outputs": [
    {
     "data": {
      "text/html": [
       "<div align=\"center\"><iframe src=jupyternb/jupyternb.html width=600, height=500></iframe></div>"
      ],
      "text/plain": [
       "<IPython.core.display.HTML object>"
      ]
     },
     "execution_count": 2,
     "metadata": {},
     "output_type": "execute_result"
    }
   ],
   "source": [
    "from IPython.display import HTML\n",
    "filename=\"jupyternb/jupyternb.html\"\n",
    "HTML('<div align=\"center\"><iframe src=%s width=600, height=500></iframe></div>' %filename)"
   ]
  },
  {
   "cell_type": "markdown",
   "metadata": {},
   "source": [
    "Jupyter Notebook UI Introduction\n",
    "---"
   ]
  },
  {
   "cell_type": "markdown",
   "metadata": {
    "collapsed": true
   },
   "source": [
    "- Create new object, Python, R or directory\n",
    "\n",
    "  新增 Python, R, 目錄 等新物件 \n",
    "<div align=\"center\"><img src=\"imgs/notebook1.png\" width=90%, height=40%></img></div>"
   ]
  },
  {
   "cell_type": "markdown",
   "metadata": {
    "collapsed": true
   },
   "source": [
    "- Create new cell, <font color=\"brown\">Python/R, (**Code**)</font>, or <font color=\"lightblue\">Markdown</font> content:\n",
    "\n",
    "在每一個 cell 輸入 Python/R 程式並執行\n",
    "<div align=\"center\"><img src=\"imgs/notebook2.png\" width=90%, height=40%></img></div>"
   ]
  },
  {
   "cell_type": "markdown",
   "metadata": {
    "collapsed": true
   },
   "source": [
    "- run command in \"cell\" by clicking option,<code style=\"background-color:#d8d8d8;color:black;\">►ǀ</code>, in sub-menu bar, <font color=\"brown\">option in sub-menu, (**Code**)</font>, or clicking combined keyboard, <font color=\"lightblue\">shift+Enter</font>: (Markdown case)\n",
    "在第二行目錄中, 可執行 cell 程式碼, <code style=\"background-color:#d8d8d8;color:black;\">►ǀ</code>, 也可以使用組合鍵  <font color=\"lightblue\">shift+Enter</font>\n",
    "<div align=\"center\"><img src=\"imgs/notebook3.png\" width=90%, height=40%></img></div>"
   ]
  },
  {
   "cell_type": "markdown",
   "metadata": {
    "collapsed": true
   },
   "source": [
    "- run  <font color=\"brown\">Python/R, (**Code**)</font> cell,\n",
    "<div align=\"center\"><img src=\"imgs/notebook4.png\" width=90%, height=40%></img></div>"
   ]
  },
  {
   "cell_type": "markdown",
   "metadata": {},
   "source": [
    "Slideshow display, livereveal\n",
    "---\n",
    "With this notebook extension, it is vey to make a web-based slide show\n",
    "\n",
    "Jupyter/notebook 已經加入 Slideshow extension 的 livereveal, 可以生動展示工作內容"
   ]
  },
  {
   "cell_type": "markdown",
   "metadata": {
    "collapsed": true
   },
   "source": [
    "- click <code style=\"background-color:#d8d8d8;color:black;\"> Slideshow </code> from Main menu bar, <code style=\"background-color:#d8d8d8;color:black;\"> View </code>, to enable \"livereveal\" mode:\n",
    "\n",
    "從主目錄  <code style=\"background-color:#d8d8d8;color:black;\"> View </code> 的\n",
    "<code style=\"background-color:#d8d8d8;color:black;\"> Slideshow </code>, 啟動 ```livereveal``` 模式, \n",
    "<div align=\"center\"><img src=\"imgs/notebook5.png\" width=90%, height=40%></img></div>\n",
    "\n"
   ]
  },
  {
   "cell_type": "markdown",
   "metadata": {
    "collapsed": true
   },
   "source": [
    "- decide type of each cell from its top right menu: \n",
    "\n",
    "從每一個 cell 右上角項目, 決定類別\n",
    "<div align=\"center\"><img src=\"imgs/notebook6.png\" width=90%, height=40%></img></div>"
   ]
  },
  {
   "cell_type": "markdown",
   "metadata": {
    "collapsed": true
   },
   "source": [
    "- Enter Slidemode mode from sub-menu bar:\n",
    "\n",
    "執行第二行的目錄中最右邊的 livereveal, 進入 slideshow 模式\n",
    "<div align=\"center\"><img src=\"imgs/notebook7.png\" width=90%, height=40%></img></div>"
   ]
  },
  {
   "cell_type": "markdown",
   "metadata": {
    "collapsed": true
   },
   "source": [
    "- show time; use the arrows under right bottum to forward or backward: \n",
    "\n",
    "使用右下角的指標上,下,前進或後退\n",
    "<div align=\"center\"><img src=\"imgs/notebook8.png\" width=90%, height=40%></img></div>"
   ]
  },
  {
   "cell_type": "markdown",
   "metadata": {
    "collapsed": true
   },
   "source": [
    "- Fragment cell demo:\n",
    "<div align=\"center\"><img src=\"imgs/notebook9.png\" width=90%, height=40%></img></div>"
   ]
  },
  {
   "cell_type": "markdown",
   "metadata": {
    "collapsed": true
   },
   "source": [
    "- Animation cell works too; back to the defaulted mode by clicking the **<code style=\"background-color:gray;color:white;\"> X </code>** button on the left top:\n",
    "\n",
    "支援動畫, 使用左上角 **<code style=\"background-color:gray;color:white;\"> X </code>** 退出 slideshow 模式\n",
    "<div align=\"center\"><img src=\"imgs/notebook10.png\" width=90%, height=40%></img></div>"
   ]
  },
  {
   "cell_type": "markdown",
   "metadata": {
    "collapsed": true
   },
   "source": [
    "Speed Up\n",
    "---\n",
    "The running speed should be efficiently arisen by duplicating whole directory to top of hard disk if you need. \n",
    "\n",
    "如有需要, 可以將整個 2016python 目錄複製到硬碟, 增加執行速度"
   ]
  },
  {
   "cell_type": "code",
   "execution_count": 6,
   "metadata": {
    "collapsed": false
   },
   "outputs": [
    {
     "name": "stdout",
     "output_type": "stream",
     "text": [
      "[NbConvertApp] Converting notebook index.ipynb to html\n",
      "[NbConvertApp] Writing 286652 bytes to index.html\n"
     ]
    }
   ],
   "source": [
    "!jupyter nbconvert index.ipynb"
   ]
  },
  {
   "cell_type": "code",
   "execution_count": null,
   "metadata": {
    "collapsed": true
   },
   "outputs": [],
   "source": []
  }
 ],
 "metadata": {
  "kernelspec": {
   "display_name": "Python 3",
   "language": "python",
   "name": "python3"
  },
  "language_info": {
   "codemirror_mode": {
    "name": "ipython",
    "version": 3
   },
   "file_extension": ".py",
   "mimetype": "text/x-python",
   "name": "python",
   "nbconvert_exporter": "python",
   "pygments_lexer": "ipython3",
   "version": "3.5.1"
  }
 },
 "nbformat": 4,
 "nbformat_minor": 1
}
