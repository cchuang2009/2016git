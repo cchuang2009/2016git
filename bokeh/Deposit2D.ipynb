{
 "cells": [
  {
   "cell_type": "markdown",
   "metadata": {
    "slideshow": {
     "slide_type": "slide"
    }
   },
   "source": [
    "# Managing 2D deposit\n",
    "\n",
    "F. Dubois - 2016"
   ]
  },
  {
   "cell_type": "markdown",
   "metadata": {
    "slideshow": {
     "slide_type": "slide"
    }
   },
   "source": [
    "Importing necessary modules for the tutorial "
   ]
  },
  {
   "cell_type": "code",
   "execution_count": null,
   "metadata": {
    "collapsed": false,
    "slideshow": {
     "slide_type": "fragment"
    }
   },
   "outputs": [],
   "source": [
    "%matplotlib inline\n",
    "\n",
    "import os,sys\n",
    "import numpy\n",
    "import matplotlib.pyplot as plt\n",
    "\n",
    "# Import Bokeh modules for interactive plotting\n",
    "import bokeh.io\n",
    "import bokeh.mpl\n",
    "import bokeh.plotting\n",
    "bokeh.io.output_notebook()\n",
    "\n",
    "from pylmgc90.pre_lmgc import *\n"
   ]
  },
  {
   "cell_type": "markdown",
   "metadata": {
    "slideshow": {
     "slide_type": "slide"
    }
   },
   "source": [
    "For this tutorial we need a function able to draw circles."
   ]
  },
  {
   "cell_type": "code",
   "execution_count": null,
   "metadata": {
    "collapsed": false,
    "slideshow": {
     "slide_type": "fragment"
    }
   },
   "outputs": [],
   "source": [
    "def draw(coor,radii):\n",
    "\n",
    "  plt.axes()\n",
    "  a=plt.gca() \n",
    "  for k in range(len(radii)):\n",
    "    circle = plt.Circle((coor[k,0], coor[k,1]), radius=radii[k], fc='y')\n",
    "    a.add_patch(circle)\n",
    "  plt.axis('scaled')\n",
    "  plt.show()\n"
   ]
  },
  {
   "cell_type": "markdown",
   "metadata": {
    "slideshow": {
     "slide_type": "slide"
    }
   },
   "source": [
    "Nice we can draw ... Mickey Mouse !"
   ]
  },
  {
   "cell_type": "code",
   "execution_count": null,
   "metadata": {
    "collapsed": false,
    "slideshow": {
     "slide_type": "fragment"
    }
   },
   "outputs": [],
   "source": [
    "coor=numpy.array([[0., 0.],[1.,1.],[-1.,1.],[0.,0.],[0.5,0.5],[-0.5,0.5]])\n",
    "rayon=[1.,0.5,0.5,0.2,0.1,0.3]\n",
    "draw(coor,rayon,)\n"
   ]
  },
  {
   "cell_type": "markdown",
   "metadata": {
    "slideshow": {
     "slide_type": "slide"
    }
   },
   "source": [
    "Lets consider a more interesting problem. We need a set of radius."
   ]
  },
  {
   "cell_type": "code",
   "execution_count": null,
   "metadata": {
    "collapsed": true,
    "slideshow": {
     "slide_type": "fragment"
    }
   },
   "outputs": [],
   "source": [
    "# Generating a list of radius\n",
    "nb_particles = 10000\n",
    "radius_min   = 1.0\n",
    "radius_max   = 2.5\n",
    "radii = granulo_Random(nb_particles, radius_min, radius_max)\n"
   ]
  },
  {
   "cell_type": "markdown",
   "metadata": {
    "slideshow": {
     "slide_type": "slide"
    }
   },
   "source": [
    "Now we have to compute the positions of these disks."
   ]
  },
  {
   "cell_type": "code",
   "execution_count": null,
   "metadata": {
    "collapsed": false,
    "scrolled": true,
    "slideshow": {
     "slide_type": "fragment"
    }
   },
   "outputs": [],
   "source": [
    "case=0\n",
    "\n",
    "if case == 0:\n",
    "  # putting particles in a box [0.,0.]*[150.,100.]\n",
    "  lx = 150.\n",
    "  ly = 1000.\n",
    "  [nb_laid_particles, coors] = depositInBox2D(radii,lx,ly)\n",
    "\n",
    "elif case == 1:\n",
    "  rext=150.  \n",
    "  [nb_laid_particles, coors]=depositInDisk2D(radii, rext)\n",
    "\n",
    "elif case == 2:\n",
    "    rext=150.\n",
    "    rint=100.\n",
    "    [nb_laid_particles, coors]=depositInCouette2D(radii, rint, rext)\n",
    "\n",
    "elif case == 3:\n",
    "    rext=150.\n",
    "    [nb_laid_particles, coors]=depositInDrum2D(radii,rext)\n",
    "\n",
    "elif case == 4:\n",
    "  # putting particles on a square lattice\n",
    "  coors=squareLattice2D(10, 10, 2*radius_max, x0=0., y0=0.)\n",
    "  #print numpy.shape(coors)  \n",
    "  nb_laid_particles=numpy.shape(coors)[0]/2\n",
    "\n",
    "elif case == 5:\n",
    "  coors=triangularLattice2D(20, 20, 2*radius_max, x0=0., y0=0.)\n",
    "  nb_laid_particles=numpy.shape(coors)[0]/2\n",
    "\n",
    "\n",
    "\n",
    "# reducing coors & radii arrays to useful part\n",
    "coors = coors[0:2*nb_laid_particles]\n",
    "radii = radii[0:nb_laid_particles]\n"
   ]
  },
  {
   "cell_type": "markdown",
   "metadata": {
    "slideshow": {
     "slide_type": "slide"
    }
   },
   "source": [
    "Lets draw"
   ]
  },
  {
   "cell_type": "code",
   "execution_count": null,
   "metadata": {
    "collapsed": false,
    "slideshow": {
     "slide_type": "fragment"
    }
   },
   "outputs": [],
   "source": [
    "print 'Real number of particles: ',numpy.shape(radii)\n",
    "\n",
    "# drawing \n",
    "coors=numpy.reshape(coors,(nb_laid_particles,2))\n",
    "draw(coors,radii) #,lx,ly)\n"
   ]
  }
 ],
 "metadata": {
  "celltoolbar": "Slideshow",
  "kernelspec": {
   "display_name": "Python 3",
   "language": "python",
   "name": "python3"
  },
  "language_info": {
   "codemirror_mode": {
    "name": "ipython",
    "version": 3
   },
   "file_extension": ".py",
   "mimetype": "text/x-python",
   "name": "python",
   "nbconvert_exporter": "python",
   "pygments_lexer": "ipython3",
   "version": "3.5.1"
  },
  "widgets": {
   "state": {},
   "version": "2.0.0-dev"
  }
 },
 "nbformat": 4,
 "nbformat_minor": 1
}
