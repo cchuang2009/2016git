{
 "cells": [
  {
   "cell_type": "code",
   "execution_count": 1,
   "metadata": {
    "collapsed": false
   },
   "outputs": [
    {
     "data": {
      "application/vnd.jupyter.widget": "6459088293fb44c1a17dabd96d663a08"
     },
     "metadata": {},
     "output_type": "display_data"
    }
   ],
   "source": [
    "from ipywidgets import VBox, jsdlink, IntSlider\n",
    "s1 = IntSlider(description='Maximum', min=100, max=200, value=100)\n",
    "s2 = IntSlider(description='Value', value=40)\n",
    "jsdlink((s1, 'value'), (s2, 'max'))\n",
    "VBox([s1, s2])"
   ]
  },
  {
   "cell_type": "markdown",
   "metadata": {},
   "source": [
    "How and Where the embedded *Javascript* Codes Genereated\n",
    "---\n",
    "Since IPyWidgets-5 (dev) with IPython ( $\\ge$ 4.2), we can get the code from main menu, \n",
    "<code style=\"background-color:#dddddd\">**Widgets**</code> and <code style=\"background-color:#eeeeee\">**Embed widget**</code> option:\n",
    "<img src=\"imgs/ipywidgets.png\" width=95% />"
   ]
  },
  {
   "cell_type": "markdown",
   "metadata": {},
   "source": [
    "Embeddable HTML Snippet\n",
    "---\n",
    "Paste this code snippet into any html page to generate the above live widgets"
   ]
  },
  {
   "cell_type": "markdown",
   "metadata": {},
   "source": [
    "```html\n",
    "<script src=\"https://npmcdn.com/jupyter-js-widgets@~1.1.2/dist/embed.js\"></script>\n",
    "<script type=\"application/vnd.jupyter-embedded-widgets\">{\n",
    "    \"1f4ff9638adf41efb24006ed8e7825aa\": {\n",
    "        \"model_name\": \"LayoutModel\",\n",
    "        \"model_module\": \"jupyter-js-widgets\",\n",
    "        \"state\": {},\n",
    "        \"views\": []\n",
    "    },\n",
    "    \"c7c78499ce374fac8fdb0a5e7387a5d7\": {\n",
    "        \"model_name\": \"IntSliderModel\",\n",
    "        \"model_module\": \"jupyter-js-widgets\",\n",
    "        \"state\": {\n",
    "            \"layout\": \"IPY_MODEL_1f4ff9638adf41efb24006ed8e7825aa\",\n",
    "            \"max\": 200,\n",
    "            \"value\": 100,\n",
    "            \"min\": 100,\n",
    "            \"description\": \"Maximum\"\n",
    "        },\n",
    "        \"views\": []\n",
    "    },\n",
    "    \"513898478f7d40dcbc6352cc7440708d\": {\n",
    "        \"model_name\": \"LayoutModel\",\n",
    "        \"model_module\": \"jupyter-js-widgets\",\n",
    "        \"state\": {},\n",
    "        \"views\": []\n",
    "    },\n",
    "    \"01bece4ed2844c9cba47e9f623d2163f\": {\n",
    "        \"model_name\": \"IntSliderModel\",\n",
    "        \"model_module\": \"jupyter-js-widgets\",\n",
    "        \"state\": {\n",
    "            \"layout\": \"IPY_MODEL_513898478f7d40dcbc6352cc7440708d\",\n",
    "            \"value\": 40,\n",
    "            \"description\": \"Value\"\n",
    "        },\n",
    "        \"views\": []\n",
    "    },\n",
    "    \"36d5339e633d441e8c81b825c68df12b\": {\n",
    "        \"model_name\": \"DirectionalLinkModel\",\n",
    "        \"model_module\": \"jupyter-js-widgets\",\n",
    "        \"state\": {\n",
    "            \"source\": [\n",
    "                \"IPY_MODEL_c7c78499ce374fac8fdb0a5e7387a5d7\",\n",
    "                \"value\"\n",
    "            ],\n",
    "            \"target\": [\n",
    "                \"IPY_MODEL_01bece4ed2844c9cba47e9f623d2163f\",\n",
    "                \"max\"\n",
    "            ]\n",
    "        },\n",
    "        \"views\": []\n",
    "    },\n",
    "    \"07611a8391f7434ab58559d72fddb391\": {\n",
    "        \"model_name\": \"LayoutModel\",\n",
    "        \"model_module\": \"jupyter-js-widgets\",\n",
    "        \"state\": {\n",
    "            \"display\": \"flex\",\n",
    "            \"flex_flow\": \"column\",\n",
    "            \"align_items\": \"stretch\"\n",
    "        },\n",
    "        \"views\": []\n",
    "    },\n",
    "    \"e6bddf8c7bd546ce9ffad5d4fa433cb4\": {\n",
    "        \"model_name\": \"BoxModel\",\n",
    "        \"model_module\": \"jupyter-js-widgets\",\n",
    "        \"state\": {\n",
    "            \"children\": [\n",
    "                \"IPY_MODEL_c7c78499ce374fac8fdb0a5e7387a5d7\",\n",
    "                \"IPY_MODEL_01bece4ed2844c9cba47e9f623d2163f\"\n",
    "            ],\n",
    "            \"layout\": \"IPY_MODEL_07611a8391f7434ab58559d72fddb391\"\n",
    "        },\n",
    "        \"views\": [\n",
    "            {\n",
    "                \"cell_index\": 0\n",
    "            }\n",
    "        ]\n",
    "    }\n",
    "}\n",
    "</script>\n",
    "```"
   ]
  },
  {
   "cell_type": "markdown",
   "metadata": {},
   "source": [
    "Where it being embedded\n",
    "---\n",
    "Find the input cell and embed the code as follows:\n",
    "\n",
    "```html\n",
    "...\n",
    "<div class=\"cell border-box-sizing code_cell rendered\">\n",
    "<div class=\"input\">\n",
    "<div class=\"prompt input_prompt\">In&nbsp;[1]:</div>\n",
    "<div class=\"inner_cell\">\n",
    "    <div class=\"input_area\">\n",
    "<div class=\" highlight hl-ipython3\"><pre>   \n",
    "    ---  Input cell here  ---\n",
    "</pre></div>\n",
    "\n",
    "</div>\n",
    "  <!-- Place the Javascript here -->\n",
    "  ...\n",
    "</div></div>\n",
    "\n",
    "...\n",
    "```\n"
   ]
  },
  {
   "cell_type": "code",
   "execution_count": 22,
   "metadata": {
    "collapsed": false
   },
   "outputs": [
    {
     "name": "stdout",
     "output_type": "stream",
     "text": [
      "[NbConvertApp] Converting notebook embeded_ipywidgets.ipynb to html\n",
      "[NbConvertApp] Writing 266064 bytes to embeded_ipywidgets.html\n"
     ]
    }
   ],
   "source": [
    "!jupyter nbconvert embeded_ipywidgets.ipynb"
   ]
  },
  {
   "cell_type": "code",
   "execution_count": 1,
   "metadata": {
    "collapsed": false
   },
   "outputs": [
    {
     "data": {
      "text/html": [
       "\n",
       "        <iframe\n",
       "            width=\"90%\"\n",
       "            height=\"480px\"\n",
       "            src=\"embeded_ipywidgets.html\"\n",
       "            frameborder=\"0\"\n",
       "            allowfullscreen\n",
       "        ></iframe>\n",
       "        "
      ],
      "text/plain": [
       "<IPython.lib.display.IFrame at 0x10649bda0>"
      ]
     },
     "execution_count": 1,
     "metadata": {},
     "output_type": "execute_result"
    }
   ],
   "source": [
    "from IPython.display import IFrame\n",
    "IFrame(src=\"embeded_ipywidgets.html\" ,width=\"90%\",height=\"480px\")\n"
   ]
  },
  {
   "cell_type": "markdown",
   "metadata": {
    "collapsed": true
   },
   "source": [
    "Note \n",
    "---\n",
    "Could the HTML file be *off-line* self-contained, including js and css?  Definite yes,\n",
    "   \n",
    "1. Download the following js files and put them in sub-folder, <font color=\"blue\">js</font>:\n",
    "\n",
    "      <a href=\"https://cdnjs.cloudflare.com/ajax/libs/require.js/2.1.10/require.min.js\">require.min.js</a>, <a href=\"https://cdnjs.cloudflare.com/ajax/libs/jquery/2.0.3/jquery.min.js\">jquery.min.js</a>, and\n",
    "      <a href=\"https://npmcdn.com/jupyter-js-widgets@~1.1.2/dist/embed.js\">embed.js</a>;\n",
    "\n",
    "2. copy parts of Jupyter included from <font color=\"blue\">lib/python35/site-packages/notebook/static</font>\n",
    "   to <font color=\"blue\">js</font>:   \n",
    "   - <code style=\"background-color:lightblue\">composents/MathJax</code>,\n",
    "   - <code style=\"background-color:lightblue\">custom/custom.css</code>.\n",
    "\n",
    "3. change links of above from official sites to static address, eg:\n",
    "   \n",
    "  **origianl**\n",
    "    ```HTML\n",
    "    <script src=\"https://npmcdn.com/jupyter-js-widgets@~1.1.2/dist/embed.js\"></script>\n",
    "    ```\n",
    "  **modified**  \n",
    "  ```HTML  \n",
    "    <script src=\"js/embed.js\"></script>\n",
    "  ```\n",
    "   \n"
   ]
  },
  {
   "cell_type": "code",
   "execution_count": null,
   "metadata": {
    "collapsed": true
   },
   "outputs": [],
   "source": []
  }
 ],
 "metadata": {
  "kernelspec": {
   "display_name": "Python 3",
   "language": "python",
   "name": "python3"
  },
  "language_info": {
   "codemirror_mode": {
    "name": "ipython",
    "version": 3
   },
   "file_extension": ".py",
   "mimetype": "text/x-python",
   "name": "python",
   "nbconvert_exporter": "python",
   "pygments_lexer": "ipython3",
   "version": "3.5.1"
  },
  "widgets": {
   "state": {
    "6459088293fb44c1a17dabd96d663a08": {
     "views": [
      {
       "cell_index": 0
      }
     ]
    }
   },
   "version": "2.0.0-dev"
  }
 },
 "nbformat": 4,
 "nbformat_minor": 1
}
